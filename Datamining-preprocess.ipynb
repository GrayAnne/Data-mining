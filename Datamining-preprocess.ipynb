{
 "cells": [
  {
   "cell_type": "code",
   "execution_count": 1,
   "id": "19dbfd7b",
   "metadata": {},
   "outputs": [],
   "source": [
    "#import libraries\n",
    "import os\n",
    "import pandas as pd\n",
    "from sklearn.impute import KNNImputer\n",
    "import seaborn as sns\n",
    "import matplotlib.pyplot as plt\n"
   ]
  },
  {
   "cell_type": "markdown",
   "id": "8f13ad02",
   "metadata": {},
   "source": [
    "We will use it to access the auto-mpg dataset. You can find this dataset on the UCI machine learning repository. For this class, we will use a version of the Auto MPG dataset, where I added column headers. You can find my version at https://data.heatonresearch.com/.\n",
    "\n",
    "UCI took this dataset from the StatLib library, which Carnegie Mellon University maintains. The dataset was used in the 1983 American Statistical Association Exposition. It contains data for 398 cars, including mpg, cylinders, displacement, horsepower , weight, acceleration, model year, origin and the car's name.\n",
    "\n",
    "The following code loads the MPG dataset into a data frame:"
   ]
  },
  {
   "cell_type": "code",
   "execution_count": 14,
   "id": "623b3946",
   "metadata": {},
   "outputs": [
    {
     "data": {
      "text/html": [
       "<div>\n",
       "<style scoped>\n",
       "    .dataframe tbody tr th:only-of-type {\n",
       "        vertical-align: middle;\n",
       "    }\n",
       "\n",
       "    .dataframe tbody tr th {\n",
       "        vertical-align: top;\n",
       "    }\n",
       "\n",
       "    .dataframe thead th {\n",
       "        text-align: right;\n",
       "    }\n",
       "</style>\n",
       "<table border=\"1\" class=\"dataframe\">\n",
       "  <thead>\n",
       "    <tr style=\"text-align: right;\">\n",
       "      <th></th>\n",
       "      <th>mpg</th>\n",
       "      <th>cylinders</th>\n",
       "      <th>displacement</th>\n",
       "      <th>...</th>\n",
       "      <th>year</th>\n",
       "      <th>origin</th>\n",
       "      <th>name</th>\n",
       "    </tr>\n",
       "  </thead>\n",
       "  <tbody>\n",
       "    <tr>\n",
       "      <th>0</th>\n",
       "      <td>18.0</td>\n",
       "      <td>8</td>\n",
       "      <td>307.0</td>\n",
       "      <td>...</td>\n",
       "      <td>70</td>\n",
       "      <td>1</td>\n",
       "      <td>chevrolet chevelle malibu</td>\n",
       "    </tr>\n",
       "    <tr>\n",
       "      <th>1</th>\n",
       "      <td>15.0</td>\n",
       "      <td>8</td>\n",
       "      <td>350.0</td>\n",
       "      <td>...</td>\n",
       "      <td>70</td>\n",
       "      <td>1</td>\n",
       "      <td>buick skylark 320</td>\n",
       "    </tr>\n",
       "    <tr>\n",
       "      <th>2</th>\n",
       "      <td>18.0</td>\n",
       "      <td>8</td>\n",
       "      <td>318.0</td>\n",
       "      <td>...</td>\n",
       "      <td>70</td>\n",
       "      <td>1</td>\n",
       "      <td>plymouth satellite</td>\n",
       "    </tr>\n",
       "    <tr>\n",
       "      <th>3</th>\n",
       "      <td>16.0</td>\n",
       "      <td>8</td>\n",
       "      <td>304.0</td>\n",
       "      <td>...</td>\n",
       "      <td>70</td>\n",
       "      <td>1</td>\n",
       "      <td>amc rebel sst</td>\n",
       "    </tr>\n",
       "    <tr>\n",
       "      <th>4</th>\n",
       "      <td>17.0</td>\n",
       "      <td>8</td>\n",
       "      <td>302.0</td>\n",
       "      <td>...</td>\n",
       "      <td>70</td>\n",
       "      <td>1</td>\n",
       "      <td>ford torino</td>\n",
       "    </tr>\n",
       "  </tbody>\n",
       "</table>\n",
       "<p>5 rows × 9 columns</p>\n",
       "</div>"
      ],
      "text/plain": [
       "    mpg  cylinders  displacement  ...  year  origin                       name\n",
       "0  18.0          8         307.0  ...    70       1  chevrolet chevelle malibu\n",
       "1  15.0          8         350.0  ...    70       1          buick skylark 320\n",
       "2  18.0          8         318.0  ...    70       1         plymouth satellite\n",
       "3  16.0          8         304.0  ...    70       1              amc rebel sst\n",
       "4  17.0          8         302.0  ...    70       1                ford torino\n",
       "\n",
       "[5 rows x 9 columns]"
      ]
     },
     "metadata": {},
     "output_type": "display_data"
    }
   ],
   "source": [
    "# read data\n",
    "pd.set_option('display.max_columns', 7)\n",
    "df = pd.read_csv(\n",
    "    \"https://data.heatonresearch.com/data/t81-558/auto-mpg.csv\",na_values=['?'])#na_values:if data replace null as ? or others\n",
    "display(df[0:5])"
   ]
  },
  {
   "cell_type": "code",
   "execution_count": 15,
   "id": "41875e3f",
   "metadata": {},
   "outputs": [],
   "source": [
    "#copy data, save original data\n",
    "df2=df.copy()"
   ]
  },
  {
   "cell_type": "code",
   "execution_count": 16,
   "id": "252995e8",
   "metadata": {},
   "outputs": [
    {
     "data": {
      "text/html": [
       "<div>\n",
       "<style scoped>\n",
       "    .dataframe tbody tr th:only-of-type {\n",
       "        vertical-align: middle;\n",
       "    }\n",
       "\n",
       "    .dataframe tbody tr th {\n",
       "        vertical-align: top;\n",
       "    }\n",
       "\n",
       "    .dataframe thead th {\n",
       "        text-align: right;\n",
       "    }\n",
       "</style>\n",
       "<table border=\"1\" class=\"dataframe\">\n",
       "  <thead>\n",
       "    <tr style=\"text-align: right;\">\n",
       "      <th></th>\n",
       "      <th>mpg</th>\n",
       "      <th>cylinders</th>\n",
       "      <th>displacement</th>\n",
       "      <th>...</th>\n",
       "      <th>acceleration</th>\n",
       "      <th>year</th>\n",
       "      <th>origin</th>\n",
       "    </tr>\n",
       "  </thead>\n",
       "  <tbody>\n",
       "    <tr>\n",
       "      <th>count</th>\n",
       "      <td>398.000000</td>\n",
       "      <td>398.000000</td>\n",
       "      <td>398.000000</td>\n",
       "      <td>...</td>\n",
       "      <td>398.000000</td>\n",
       "      <td>398.000000</td>\n",
       "      <td>398.000000</td>\n",
       "    </tr>\n",
       "    <tr>\n",
       "      <th>mean</th>\n",
       "      <td>23.514573</td>\n",
       "      <td>5.454774</td>\n",
       "      <td>193.425879</td>\n",
       "      <td>...</td>\n",
       "      <td>15.568090</td>\n",
       "      <td>76.010050</td>\n",
       "      <td>1.572864</td>\n",
       "    </tr>\n",
       "    <tr>\n",
       "      <th>std</th>\n",
       "      <td>7.815984</td>\n",
       "      <td>1.701004</td>\n",
       "      <td>104.269838</td>\n",
       "      <td>...</td>\n",
       "      <td>2.757689</td>\n",
       "      <td>3.697627</td>\n",
       "      <td>0.802055</td>\n",
       "    </tr>\n",
       "    <tr>\n",
       "      <th>min</th>\n",
       "      <td>9.000000</td>\n",
       "      <td>3.000000</td>\n",
       "      <td>68.000000</td>\n",
       "      <td>...</td>\n",
       "      <td>8.000000</td>\n",
       "      <td>70.000000</td>\n",
       "      <td>1.000000</td>\n",
       "    </tr>\n",
       "    <tr>\n",
       "      <th>25%</th>\n",
       "      <td>17.500000</td>\n",
       "      <td>4.000000</td>\n",
       "      <td>104.250000</td>\n",
       "      <td>...</td>\n",
       "      <td>13.825000</td>\n",
       "      <td>73.000000</td>\n",
       "      <td>1.000000</td>\n",
       "    </tr>\n",
       "    <tr>\n",
       "      <th>50%</th>\n",
       "      <td>23.000000</td>\n",
       "      <td>4.000000</td>\n",
       "      <td>148.500000</td>\n",
       "      <td>...</td>\n",
       "      <td>15.500000</td>\n",
       "      <td>76.000000</td>\n",
       "      <td>1.000000</td>\n",
       "    </tr>\n",
       "    <tr>\n",
       "      <th>75%</th>\n",
       "      <td>29.000000</td>\n",
       "      <td>8.000000</td>\n",
       "      <td>262.000000</td>\n",
       "      <td>...</td>\n",
       "      <td>17.175000</td>\n",
       "      <td>79.000000</td>\n",
       "      <td>2.000000</td>\n",
       "    </tr>\n",
       "    <tr>\n",
       "      <th>max</th>\n",
       "      <td>46.600000</td>\n",
       "      <td>8.000000</td>\n",
       "      <td>455.000000</td>\n",
       "      <td>...</td>\n",
       "      <td>24.800000</td>\n",
       "      <td>82.000000</td>\n",
       "      <td>3.000000</td>\n",
       "    </tr>\n",
       "  </tbody>\n",
       "</table>\n",
       "<p>8 rows × 8 columns</p>\n",
       "</div>"
      ],
      "text/plain": [
       "              mpg   cylinders  displacement  ...  acceleration        year  \\\n",
       "count  398.000000  398.000000    398.000000  ...    398.000000  398.000000   \n",
       "mean    23.514573    5.454774    193.425879  ...     15.568090   76.010050   \n",
       "std      7.815984    1.701004    104.269838  ...      2.757689    3.697627   \n",
       "min      9.000000    3.000000     68.000000  ...      8.000000   70.000000   \n",
       "25%     17.500000    4.000000    104.250000  ...     13.825000   73.000000   \n",
       "50%     23.000000    4.000000    148.500000  ...     15.500000   76.000000   \n",
       "75%     29.000000    8.000000    262.000000  ...     17.175000   79.000000   \n",
       "max     46.600000    8.000000    455.000000  ...     24.800000   82.000000   \n",
       "\n",
       "           origin  \n",
       "count  398.000000  \n",
       "mean     1.572864  \n",
       "std      0.802055  \n",
       "min      1.000000  \n",
       "25%      1.000000  \n",
       "50%      1.000000  \n",
       "75%      2.000000  \n",
       "max      3.000000  \n",
       "\n",
       "[8 rows x 8 columns]"
      ]
     },
     "execution_count": 16,
     "metadata": {},
     "output_type": "execute_result"
    }
   ],
   "source": [
    "#distribution,statistical information\n",
    "df2.describe()"
   ]
  },
  {
   "cell_type": "code",
   "execution_count": 17,
   "id": "62a6ba18",
   "metadata": {},
   "outputs": [
    {
     "name": "stdout",
     "output_type": "stream",
     "text": [
      "<class 'pandas.core.frame.DataFrame'>\n",
      "RangeIndex: 398 entries, 0 to 397\n",
      "Data columns (total 9 columns):\n",
      " #   Column        Non-Null Count  Dtype  \n",
      "---  ------        --------------  -----  \n",
      " 0   mpg           398 non-null    float64\n",
      " 1   cylinders     398 non-null    int64  \n",
      " 2   displacement  398 non-null    float64\n",
      " 3   horsepower    392 non-null    float64\n",
      " 4   weight        398 non-null    int64  \n",
      " 5   acceleration  398 non-null    float64\n",
      " 6   year          398 non-null    int64  \n",
      " 7   origin        398 non-null    int64  \n",
      " 8   name          398 non-null    object \n",
      "dtypes: float64(4), int64(4), object(1)\n",
      "memory usage: 28.1+ KB\n"
     ]
    }
   ],
   "source": [
    "df2.info()"
   ]
  },
  {
   "cell_type": "markdown",
   "id": "7a032192",
   "metadata": {},
   "source": [
    "# Missing value"
   ]
  },
  {
   "cell_type": "code",
   "execution_count": 18,
   "id": "c520d16f",
   "metadata": {},
   "outputs": [
    {
     "data": {
      "text/plain": [
       "mpg             0\n",
       "cylinders       0\n",
       "displacement    0\n",
       "horsepower      6\n",
       "weight          0\n",
       "acceleration    0\n",
       "year            0\n",
       "origin          0\n",
       "name            0\n",
       "dtype: int64"
      ]
     },
     "execution_count": 18,
     "metadata": {},
     "output_type": "execute_result"
    }
   ],
   "source": [
    "#check missing value\n",
    "df2.apply(lambda x: sum(x.isnull()))"
   ]
  },
  {
   "cell_type": "markdown",
   "id": "36dacb60",
   "metadata": {},
   "source": [
    "1. replace with median:"
   ]
  },
  {
   "cell_type": "code",
   "execution_count": null,
   "id": "5366ad68",
   "metadata": {},
   "outputs": [],
   "source": [
    "med = df['horsepower'].median()#mean\n",
    "df['horsepower'] = df['horsepower'].fillna(med)\n",
    "                 \n",
    "print(f\"horsepower has na? {pd.isnull(df['horsepower']).values.any()}\")"
   ]
  },
  {
   "cell_type": "markdown",
   "id": "b1b1ffd4",
   "metadata": {},
   "source": [
    "2.drop the value"
   ]
  },
  {
   "cell_type": "code",
   "execution_count": null,
   "id": "abd7a21e",
   "metadata": {},
   "outputs": [],
   "source": [
    "#DataFrame.dropna(*, axis=0, how=_NoDefault.no_default, thresh=_NoDefault.no_default, subset=None, inplace=False)\n",
    "df = df.dropna() # 0:row, 1:column"
   ]
  },
  {
   "cell_type": "markdown",
   "id": "34f57110",
   "metadata": {},
   "source": [
    "3.KNN：KNNImputer\n",
    "sklearn.impute.KNNImputer(*, missing_values=nan, n_neighbors=5, weights='uniform', metric='nan_euclidean', copy=True, add_indicator=False, keep_empty_features=False)"
   ]
  },
  {
   "cell_type": "code",
   "execution_count": null,
   "id": "3b48ca3a",
   "metadata": {},
   "outputs": [],
   "source": [
    "from sklearn.impute import KNNImputer\n",
    "imputer = KNNImputer(n_neighbors=1)\n",
    "imputer.fit_transform(df2)\n",
    "#can use selected columns\n",
    "#df2[['horsepower', 'mpg', 'year']] = imputer.fit_transform(df2f2[['horsepower', 'mpg', 'year']])"
   ]
  },
  {
   "cell_type": "markdown",
   "id": "bfe71440",
   "metadata": {},
   "source": [
    "4.Deep Neural Networks"
   ]
  },
  {
   "cell_type": "code",
   "execution_count": null,
   "id": "8aedf981",
   "metadata": {},
   "outputs": [],
   "source": [
    "def fill_missing_numeric(df,current):\n",
    "    df_x=df.drop(current)\n",
    "    df_y = df[current]\n",
    "    #missing row\n",
    "    pred_mask = df[current].isnull()\n",
    "    train_mask = ~pred_mask\n",
    "    \n",
    "    x = df_x[train_mask].values\n",
    "    y = df_y[train_mask].values\n",
    "    \n",
    "    # Create train/test\n",
    "    x_train, x_test, y_train, y_test = train_test_split(    \n",
    "        x, y, test_size=0.25, random_state=42)\n",
    "       \n",
    "    # Build the neural network\n",
    "    model = Sequential()\n",
    "    model.add(Dense(25, input_dim=x.shape[1], activation='relu')) # Hidden 1\n",
    "    model.add(Dense(10, activation='relu')) # Hidden 2\n",
    "    model.add(Dense(1)) # Output\n",
    "    model.compile(loss='mean_squared_error', optimizer='adam')\n",
    "    monitor = EarlyStopping(monitor='val_loss', min_delta=1e-3, \n",
    "                            patience=5, verbose=1, mode='auto', restore_best_weights=True)\n",
    "    model.fit(x_train,y_train,validation_data=(x_test,y_test),callbacks=[monitor],verbose=2,epochs=1000)\n",
    "    \n",
    "    # Prediction\n",
    "    x2 = df_x[pred_mask].values\n",
    "    pred = model.predict(x2)\n",
    "    \n",
    "    rtn = df.copy()\n",
    "    rtn.loc[pred_mask, current] = pred\n",
    "    return rtn"
   ]
  },
  {
   "cell_type": "markdown",
   "id": "3a880646",
   "metadata": {},
   "source": [
    "# outliers"
   ]
  },
  {
   "cell_type": "markdown",
   "id": "2f0ba22e",
   "metadata": {},
   "source": [
    "Outliers are values that are unusually high or low. We typically consider outliers to be a value that is several standard deviations from the mean. Sometimes outliers are simply errors; this is a result of observation error. Outliers can also be truly large or small values that may be difficult to address. The following function can remove such values."
   ]
  },
  {
   "cell_type": "markdown",
   "id": "32dfa1bf",
   "metadata": {},
   "source": [
    "Key points: define outliers"
   ]
  },
  {
   "cell_type": "code",
   "execution_count": 20,
   "id": "21522668",
   "metadata": {},
   "outputs": [
    {
     "data": {
      "text/plain": [
       "<AxesSubplot:>"
      ]
     },
     "execution_count": 20,
     "metadata": {},
     "output_type": "execute_result"
    },
    {
     "data": {
      "image/png": "[encoded data removed]",
      "text/plain": [
       "<Figure size 864x432 with 1 Axes>"
      ]
     },
     "metadata": {
      "needs_background": "light"
     },
     "output_type": "display_data"
    }
   ],
   "source": [
    "import seaborn as sns\n",
    "import matplotlib.pyplot as plt\n",
    "#ckeck outliers\n",
    "plt.figure(figsize=(12,6))\n",
    "sns.boxplot(data=df2, orient=\"h\", palette=\"Set2\", dodge=False)"
   ]
  },
  {
   "cell_type": "code",
   "execution_count": null,
   "id": "2c20db7c",
   "metadata": {},
   "outputs": [],
   "source": [
    "def get_outliers(df, name, sd):\n",
    "    drop_rows = df.index[(np.abs(df[name] - df[name].mean())\n",
    "                          >= (sd * df[name].std()))]\n",
    "    return drop_rows"
   ]
  },
  {
   "cell_type": "markdown",
   "id": "dac4ab0e",
   "metadata": {},
   "source": [
    "# feature selection"
   ]
  },
  {
   "cell_type": "markdown",
   "id": "1070ef91",
   "metadata": {},
   "source": [
    "You must drop fields that are of no value to the response value"
   ]
  },
  {
   "cell_type": "markdown",
   "id": "eeabd643",
   "metadata": {},
   "source": [
    "Simple Quality filtering\n",
    "\n",
    "• Missing values\n",
    "If a large fraction of your samples are missing data for a specific feature, just drop that feature\n",
    "If a large fraction of feature values are missing for a sample, just drop that sample\n",
    "\n",
    "• Low variance\n",
    "If a feature’s values are all the same, drop it\n",
    "\n",
    "• Domain expert judgement\n",
    "Does the feature make sense for the problem?\n",
    "Does the feature make sense for the model?"
   ]
  },
  {
   "cell_type": "markdown",
   "id": "24201269",
   "metadata": {},
   "source": [
    "Filter methods\n",
    "\n",
    "•Unsupervised approach\n",
    "If a pair of features or more are highly informative or predictive of each other, just keeping one as a representative is sufficient\n",
    "\n",
    "• Supervised approach\n",
    "If a feature is highly informative or predictive of the output, it’s more important\n",
    "\n",
    "• Scoring methods: mutual information, correlation"
   ]
  },
  {
   "cell_type": "code",
   "execution_count": null,
   "id": "ae2d6620",
   "metadata": {},
   "outputs": [],
   "source": [
    "#Missing values\n",
    "miss_rate_df = df.isnull().sum().sort_values(ascending=False) / df.shape[0]"
   ]
  },
  {
   "cell_type": "code",
   "execution_count": null,
   "id": "22f46c45",
   "metadata": {},
   "outputs": [],
   "source": [
    "#divergence\n",
    "# 分析方差 \n",
    "var_features = df.var().sort_values()\n",
    " \n",
    "# 特征单值率\n",
    "sigle_rate = {}\n",
    "for var in df.columns:\n",
    "    sigle_rate[var]=(df[var].value_counts().max()/df.shape[0])"
   ]
  },
  {
   "cell_type": "code",
   "execution_count": null,
   "id": "af699bad",
   "metadata": {},
   "outputs": [],
   "source": [
    "#方差膨胀因子VIF：\n",
    "#方差膨胀因子也称为方差膨胀系数（Variance Inflation），用于计算数值特征间的共线性，一般当VIF大于10表示有较高共线性。\n",
    "from statsmodels.stats.outliers_influence import variance_inflation_factor\n",
    "# 截距项\n",
    "name = df.columns\n",
    "x = np.matrix(df)\n",
    "VIF_list = [variance_inflation_factor(x,i) for i in range(x.shape[1])]\n",
    "VIF = pd.DataFrame({'feature':name,\"VIF\":VIF_list})\n"
   ]
  },
  {
   "cell_type": "code",
   "execution_count": null,
   "id": "c7350a29",
   "metadata": {},
   "outputs": [],
   "source": [
    "import seaborn as sns\n",
    "corr_df=df.corr()\n",
    "# 热力图\n",
    "sns.heatmap(corr_df)\n",
    "# 剔除相关性系数高于threshold的corr_drop\n",
    "threshold = 0.9\n",
    "upper = corr_df.where(np.triu(np.ones(corr_df.shape), k=1).astype(np.bool))\n",
    "corr_drop = [column for column in upper.columns if any(upper[column].abs() > threshold)]"
   ]
  },
  {
   "cell_type": "code",
   "execution_count": null,
   "id": "77c50943",
   "metadata": {},
   "outputs": [],
   "source": [
    "#Chi2检验\n",
    "from sklearn.datasets import load_iris\n",
    "from sklearn.feature_selection import SelectKBest\n",
    "from sklearn.feature_selection import chi2\n",
    "x, y = load_iris(return_X_y=True)\n",
    "\n",
    "x_new = SelectKBest(chi2, k=2).fit_transform(x, y)"
   ]
  },
  {
   "cell_type": "code",
   "execution_count": null,
   "id": "86783997",
   "metadata": {},
   "outputs": [],
   "source": [
    "#信息量\n",
    "from sklearn.feature_selection import mutual_info_classif\n",
    "from sklearn.datasets import load_iris\n",
    "x, y = load_iris(return_X_y=True)\n",
    "mutual_info_classif(x,y)"
   ]
  },
  {
   "cell_type": "markdown",
   "id": "ff32968b",
   "metadata": {},
   "source": [
    "# Embedded methods"
   ]
  },
  {
   "cell_type": "markdown",
   "id": "7e18c7bb",
   "metadata": {},
   "source": [
    "LASSO regression\n",
    "The features that are least predictive will shrink to zero in response to the L1 penalt"
   ]
  },
  {
   "cell_type": "code",
   "execution_count": null,
   "id": "9bf966c1",
   "metadata": {},
   "outputs": [],
   "source": [
    "from sklearn.feature_selection import SelectFromModel\n",
    "from sklearn.linear_model import LogisticRegression\n",
    "\n",
    "x_new = SelectFromModel(LogisticRegression(penalty=\"l1\", C=0.1)).fit_transform(x,  y)"
   ]
  },
  {
   "cell_type": "markdown",
   "id": "8045a3eb",
   "metadata": {},
   "source": [
    "Decision trees/Random forest \n",
    "The features chosen for splitting are picked to maximize decrease in Gini Impurity or Variance"
   ]
  },
  {
   "cell_type": "code",
   "execution_count": null,
   "id": "348ef570",
   "metadata": {},
   "outputs": [],
   "source": [
    "import matplotlib.pyplot as plt\n",
    "from lightgbm import plot_importance\n",
    "from lightgbm import LGBMClassifier\n",
    "\n",
    "\n",
    "model = LGBMClassifier()\n",
    "model.fit(x, y)\n",
    "plot_importance(model,  max_num_features=20, figsize=(10,5),importance_type='split')\n",
    "plt.show()\n",
    "feature_importance = pd.DataFrame({\n",
    "        'feature': model.booster_.feature_name(),\n",
    "        'gain': model.booster_.feature_importance('gain'),\n",
    "        'split': model.booster_.feature_importance('split')\n",
    "    }).sort_values('gain',ascending=False)"
   ]
  },
  {
   "cell_type": "markdown",
   "id": "e5599360",
   "metadata": {},
   "source": [
    "# Wrapper feature selection"
   ]
  },
  {
   "cell_type": "markdown",
   "id": "9ea39fa8",
   "metadata": {},
   "source": [
    "穷举算法 (exhaustive search)，穷举算法是遍历所有可能的组合达到全局最优级，但是计算复杂度是2^n，一般是不太实际的算法。\n",
    "\n",
    "Greedy Forward Feature Construction\n",
    "前向搜索\n",
    "前向搜索说白了就是，每次增量地从剩余未选中的特征选出一个加入特征集中，待达到阈值或者 n 时，从所有的 F 中选出错误率最小的。过程如下：\n",
    "\n",
    "初始化特征集 F 为空。\n",
    "扫描 i 从 1 到 n 如果第 i 个特征不在 F 中，那么特征 i 和F 放在一起作为 F_i (即 F_i=F\\cup{i} )。 在只使用 F_i 中特征的情况下，利用交叉验证来得到 F_i 的错误率。\n",
    "从上步中得到的 n 个 F_i 中选出错误率最小的 F_i ,更新 F 为 F_i 。\n",
    "如果 F 中的特征数达到了 n 或者预定的阈值（如果有的话）， 那么输出整个搜索过程中最好的 ；若没达到，则转到 2，继续扫描。\n",
    "\n",
    "Greedy Backward Feature Elimination\n",
    "后向搜索\n",
    "既然有增量加，那么也会有增量减，后者称为后向搜索。先将 F 设置为 {1,2,...,n} ，然后每次删除一个特征，并评价，直到达到阈值或者为空，然后选择最佳的 F 。"
   ]
  },
  {
   "cell_type": "code",
   "execution_count": null,
   "id": "2f321b01",
   "metadata": {},
   "outputs": [],
   "source": [
    "#RFE\n",
    "from sklearn.feature_selection import RFE\n",
    "from sklearn.linear_model import LogisticRegression\n",
    "\n",
    "#递归特征消除法，返回特征选择后的数据\n",
    "#参数estimator为基模型\n",
    "#参数n_features_to_select为选择的特征个数\n",
    "RFE(estimator=LogisticRegression(), n_features_to_select=2).fit_transform(iris.data, iris.target)"
   ]
  },
  {
   "cell_type": "markdown",
   "id": "d1fb4410",
   "metadata": {},
   "source": [
    "# Split Training and Validation"
   ]
  },
  {
   "cell_type": "code",
   "execution_count": null,
   "id": "eb938266",
   "metadata": {},
   "outputs": [],
   "source": [
    "# Usually a good idea to shuffle\n",
    "df = df.reindex(np.random.permutation(df.index)) \n",
    "\n",
    "mask = np.random.rand(len(df)) < 0.8\n",
    "trainDF = pd.DataFrame(df[mask])\n",
    "validationDF = pd.DataFrame(df[~mask])"
   ]
  },
  {
   "cell_type": "code",
   "execution_count": null,
   "id": "a66412f2",
   "metadata": {},
   "outputs": [],
   "source": [
    "#or\n",
    "from sklearn.model_selection import train_test_split\n",
    "Y_set = df2['name'].values\n",
    "X_set = df2.drop(labels= \"name\" , axis = 1).values\n",
    "\n",
    "# data spliting using 80:20 train test data ratio and randon seeding 6\n",
    "X_train, X_test, Y_train, Y_test = train_test_split(X_set, Y_set, train_size=900,test_size=130, random_state=6)"
   ]
  },
  {
   "cell_type": "markdown",
   "id": "a8f0f6b5",
   "metadata": {},
   "source": [
    "# Encoding"
   ]
  },
  {
   "cell_type": "markdown",
   "id": "528327e1",
   "metadata": {},
   "source": [
    "Continuous Values\n",
    "One common transformation is to normalize the inputs. It is sometimes valuable to normalize numeric inputs in a standard form so that the program can easily compare these two values. Consider if a friend told you that he received a 10-dollar discount. Is this a good deal? Maybe. But the cost is not normalized. If your friend purchased a car, the discount is not that good. If your friend bought lunch, this is an excellent discount!\n",
    "\n",
    "Percentages are a prevalent form of normalization. If your friend tells you they got 10% off, we know that this is a better discount than 5%. It does not matter how much the purchase price was. One widespread machine learning normalization is the Z-Score:\n",
    "\n",
    "z=x−μσ \n",
    "\n",
    "To calculate the Z-Score, you also need to calculate the mean(μ or  x¯ ) and the standard deviation (σ). "
   ]
  },
  {
   "cell_type": "code",
   "execution_count": null,
   "id": "838b4b97",
   "metadata": {},
   "outputs": [],
   "source": [
    "from scipy.stats import zscore\n",
    "df2['mpg'] = zscore(df['mpg'])\n",
    "display(df2)"
   ]
  },
  {
   "cell_type": "markdown",
   "id": "6a4c286d",
   "metadata": {},
   "source": [
    "Encoding Categorical Values as Dummies\n",
    "The traditional means of encoding categorical values is to make them dummy variables. This technique is also called one-hot-encoding. Consider the following data set."
   ]
  },
  {
   "cell_type": "code",
   "execution_count": null,
   "id": "62254cb6",
   "metadata": {},
   "outputs": [],
   "source": [
    "dummies = pd.get_dummies(['a','b','c','d'],prefix='area')\n",
    "print(dummies)\n",
    "df.drop('area', axis=1, inplace=True)\n",
    "df = pd.concat([df,dummies],axis=1)"
   ]
  },
  {
   "cell_type": "markdown",
   "id": "5f261790",
   "metadata": {},
   "source": [
    "Target Encoding for Categoricals\n",
    "Target encoding is a popular technique for Kaggle competitions. Target encoding can sometimes increase the predictive power of a machine learning model. However, it also dramatically increases the risk of overfitting. Because of this risk, you must take care of using this method.\n",
    "\n",
    "Generally, target encoding can only be used on a categorical feature when the output of the machine learning model is numeric (regression).\n",
    "\n",
    "The concept of target encoding is straightforward. For each category, we calculate the average target value for that category. Then to encode, we substitute the percent corresponding to the category that the categorical value has. Unlike dummy variables, where you have a column for each category with target encoding, the program only needs a single column. In this way, target coding is more efficient than dummy variables."
   ]
  },
  {
   "cell_type": "markdown",
   "id": "bb8991c6",
   "metadata": {},
   "source": [
    "# Shuffle and reindex"
   ]
  },
  {
   "cell_type": "code",
   "execution_count": null,
   "id": "ed7c52d9",
   "metadata": {},
   "outputs": [],
   "source": [
    "import numpy as np\n",
    "#np.random.seed(42) # Uncomment this line to get the same shuffle each time\n",
    "df = df.reindex(np.random.permutation(df.index))\n",
    "df.reset_index(inplace=True, drop=True)"
   ]
  },
  {
   "cell_type": "markdown",
   "id": "274957eb",
   "metadata": {},
   "source": [
    "# Sort"
   ]
  },
  {
   "cell_type": "code",
   "execution_count": null,
   "id": "274fa50b",
   "metadata": {},
   "outputs": [],
   "source": [
    "df = df.sort_values(by='name', ascending=True)"
   ]
  },
  {
   "cell_type": "markdown",
   "id": "0cedf746",
   "metadata": {},
   "source": [
    "# Grouping a Data Set"
   ]
  },
  {
   "cell_type": "markdown",
   "id": "79e47781",
   "metadata": {},
   "source": [
    "Grouping is a typical operation on data sets. Structured Query Language (SQL) calls this operation a \"GROUP BY.\" Programmers use grouping to summarize data. Because of this, the summarization row count will usually shrink, and you cannot undo the grouping. Because of this loss of information, it is essential to keep your original data before the grouping."
   ]
  },
  {
   "cell_type": "code",
   "execution_count": null,
   "id": "73d3d836",
   "metadata": {},
   "outputs": [],
   "source": [
    "g = df.groupby('cylinders')['mpg'].mean()#sum or count.\n",
    "#It might be useful to have these mean values as a dictionary.\n",
    "d = g.to_dict()"
   ]
  },
  {
   "cell_type": "code",
   "execution_count": null,
   "id": "f655276c",
   "metadata": {},
   "outputs": [],
   "source": []
  }
 ],
 "metadata": {
  "kernelspec": {
   "display_name": "Python 3 (ipykernel)",
   "language": "python",
   "name": "python3"
  },
  "language_info": {
   "codemirror_mode": {
    "name": "ipython",
    "version": 3
   },
   "file_extension": ".py",
   "mimetype": "text/x-python",
   "name": "python",
   "nbconvert_exporter": "python",
   "pygments_lexer": "ipython3",
   "version": "3.9.12"
  }
 },
 "nbformat": 4,
 "nbformat_minor": 5
}
