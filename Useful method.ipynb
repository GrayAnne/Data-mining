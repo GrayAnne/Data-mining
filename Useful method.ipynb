{
 "cells": [
  {
   "cell_type": "code",
   "execution_count": null,
   "id": "0bd7edf0",
   "metadata": {},
   "outputs": [],
   "source": [
    "import os\n",
    "import pandas as pd\n",
    "import numpy as np\n",
    "\n",
    "df = pd.read_csv(\n",
    "    \"https://data.heatonresearch.com/data/t81-558/auto-mpg.csv\", \n",
    "    na_values=['NA', '?'])\n",
    "\n",
    "pd.set_option('display.max_columns', 7)\n",
    "pd.set_option('display.max_rows', 5)\n",
    "\n"
   ]
  },
  {
   "cell_type": "markdown",
   "id": "249c73d3",
   "metadata": {},
   "source": [
    "# Shuffle and reindex"
   ]
  },
  {
   "cell_type": "code",
   "execution_count": null,
   "id": "1ba38f24",
   "metadata": {},
   "outputs": [],
   "source": [
    "import numpy as np\n",
    "#np.random.seed(42) # Uncomment this line to get the same shuffle each time\n",
    "df = df.reindex(np.random.permutation(df.index))\n",
    "df.reset_index(inplace=True, drop=True)"
   ]
  },
  {
   "cell_type": "markdown",
   "id": "795b9ffe",
   "metadata": {},
   "source": [
    "# Sort"
   ]
  },
  {
   "cell_type": "code",
   "execution_count": null,
   "id": "e1e0d03e",
   "metadata": {},
   "outputs": [],
   "source": [
    "df = df.sort_values(by='name', ascending=True)"
   ]
  },
  {
   "cell_type": "markdown",
   "id": "73275bcf",
   "metadata": {},
   "source": [
    "# Grouping a Data Set"
   ]
  },
  {
   "cell_type": "markdown",
   "id": "019c046c",
   "metadata": {},
   "source": [
    "Grouping is a typical operation on data sets. Structured Query Language (SQL) calls this operation a \"GROUP BY.\" Programmers use grouping to summarize data. Because of this, the summarization row count will usually shrink, and you cannot undo the grouping. Because of this loss of information, it is essential to keep your original data before the grouping."
   ]
  },
  {
   "cell_type": "code",
   "execution_count": null,
   "id": "edb955db",
   "metadata": {},
   "outputs": [],
   "source": [
    "g = df.groupby('cylinders')['mpg'].mean()#sum or count.\n",
    "#It might be useful to have these mean values as a dictionary.\n",
    "d = g.to_dict()"
   ]
  },
  {
   "cell_type": "markdown",
   "id": "7eb3f8db",
   "metadata": {},
   "source": [
    "# Map"
   ]
  },
  {
   "cell_type": "markdown",
   "id": "a6acf8a9",
   "metadata": {},
   "source": [
    "The map method in Pandas operates on a single column. You provide map with a dictionary of values to transform the target column. The map keys specify what values in the target column should be turned into values specified by those keys. The following code shows how the map function can transform the numeric values of 1, 2, and 3 into the string values of North America, Europe, and Asia."
   ]
  },
  {
   "cell_type": "code",
   "execution_count": null,
   "id": "3a474016",
   "metadata": {},
   "outputs": [],
   "source": [
    "# Apply the map\n",
    "df['origin_name'] = df['origin'].map(\n",
    "    {1: 'North America', 2: 'Europe', 3: 'Asia'})\n",
    "\n",
    "# Shuffle the data, so that we hopefully see\n",
    "# more regions.\n",
    "df = df.reindex(np.random.permutation(df.index)) \n",
    "\n",
    "# Display\n",
    "pd.set_option('display.max_columns', 7)\n",
    "pd.set_option('display.max_rows', 10)\n",
    "display(df)"
   ]
  },
  {
   "cell_type": "markdown",
   "id": "3c34bb2e",
   "metadata": {},
   "source": [
    "# Apply"
   ]
  },
  {
   "cell_type": "markdown",
   "id": "ae252973",
   "metadata": {},
   "source": [
    "The apply function of the data frame can run a function over the entire data frame. You can use either a traditional named function or a lambda function. Python will execute the provided function against each of the rows or columns in the data frame. The axis parameter specifies that the function is run across rows or columns. For axis = 1, rows are used. The following code calculates a series called efficiency that is the displacement divided by horsepower."
   ]
  },
  {
   "cell_type": "code",
   "execution_count": null,
   "id": "c6b9363a",
   "metadata": {},
   "outputs": [],
   "source": [
    "efficiency = df.apply(lambda x: x['displacement']/x['horsepower'], axis=1)\n",
    "display(efficiency[0:10])"
   ]
  },
  {
   "cell_type": "code",
   "execution_count": null,
   "id": "245bff96",
   "metadata": {},
   "outputs": [],
   "source": []
  }
 ],
 "metadata": {
  "kernelspec": {
   "display_name": "Python 3 (ipykernel)",
   "language": "python",
   "name": "python3"
  },
  "language_info": {
   "codemirror_mode": {
    "name": "ipython",
    "version": 3
   },
   "file_extension": ".py",
   "mimetype": "text/x-python",
   "name": "python",
   "nbconvert_exporter": "python",
   "pygments_lexer": "ipython3",
   "version": "3.9.12"
  }
 },
 "nbformat": 4,
 "nbformat_minor": 5
}
