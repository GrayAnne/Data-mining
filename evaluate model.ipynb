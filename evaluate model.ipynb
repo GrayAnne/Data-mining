{
 "cells": [
  {
   "cell_type": "markdown",
   "id": "44ad0f9a",
   "metadata": {},
   "source": [
    "# regression models"
   ]
  },
  {
   "cell_type": "code",
   "execution_count": null,
   "id": "7820e2ed",
   "metadata": {},
   "outputs": [],
   "source": [
    "#train a model\n",
    "#导入数据分析的常用工具包\n",
    "import numpy as np\n",
    "import pandas as pd\n",
    "import matplotlib.pyplot as plt\n",
    "from sklearn import datasets\n",
    "%matplotlib inline\n",
    "\n",
    "#导入boston房价数据集\n",
    "boston = datasets.load_boston()\n",
    "#导入特征\n",
    "X = boston.data\n",
    "#导入标签\n",
    "y = boston.target\n",
    "\n",
    "#对原始数据进行切分\n",
    "from sklearn.model_selection import train_test_split\n",
    "X_train,X_test,y_train,y_test = train_test_split(X,y,test_size = 0.3,random_state = 1)\n",
    "\n",
    "#建立线性回归模型\n",
    "from sklearn.linear_model import LinearRegression\n",
    "LR = LinearRegression()\n",
    "#对训练集进行训练\n",
    "LR.fit(X_train,y_train)\n",
    "#对测试集进行预测\n",
    "prediction = LR.predict(X_test)"
   ]
  },
  {
   "attachments": {},
   "cell_type": "markdown",
   "id": "f46bd657",
   "metadata": {},
   "source": [
    "## MAE"
   ]
  },
  {
   "cell_type": "code",
   "execution_count": null,
   "id": "2d7451f9",
   "metadata": {},
   "outputs": [],
   "source": [
    "MAE_1 = np.mean(abs(y_test - prediction))\n",
    "#or\n",
    "from sklearn.metrics import mean_absolute_error\n",
    "MAE_2 = mean_absolute_error(y_test,prediction)"
   ]
  },
  {
   "cell_type": "markdown",
   "id": "6a7ecee2",
   "metadata": {},
   "source": [
    "## MSE"
   ]
  },
  {
   "cell_type": "code",
   "execution_count": null,
   "id": "fb1062eb",
   "metadata": {},
   "outputs": [],
   "source": [
    "MSE_1 = np.mean((y_test - prediction)**2)\n",
    "#or\n",
    "from sklearn.metrics import mean_squared_error\n",
    "MSE_2 = mean_squared_error(y_test,prediction)"
   ]
  },
  {
   "cell_type": "markdown",
   "id": "e2de69d6",
   "metadata": {},
   "source": [
    "## RMSE"
   ]
  },
  {
   "cell_type": "code",
   "execution_count": null,
   "id": "57b5d3c8",
   "metadata": {},
   "outputs": [],
   "source": [
    "RMSE_1 = np.sqrt(np.mean((y_test - prediction)**2))\n",
    "#or\n",
    "from sklearn.metrics import mean_squared_error\n",
    "RMSE_2 = np.sqrt(mean_squared_error(y_test,prediction))"
   ]
  },
  {
   "cell_type": "markdown",
   "id": "a548f7f5",
   "metadata": {},
   "source": [
    "## R-squared"
   ]
  },
  {
   "cell_type": "code",
   "execution_count": null,
   "id": "4da6ce9c",
   "metadata": {},
   "outputs": [],
   "source": [
    "R_1 = 1 - np.mean((y_test - prediction)**2)/np.mean((y_test - np.mean(y_test)**2))\n",
    "#or\n",
    "from sklearn.metrics import r2_score\n",
    "R_2 = r2_score(y_test,prediction)"
   ]
  },
  {
   "cell_type": "markdown",
   "id": "25d006eb",
   "metadata": {},
   "source": [
    "# Classification"
   ]
  },
  {
   "cell_type": "code",
   "execution_count": null,
   "id": "c8c0e46d",
   "metadata": {},
   "outputs": [],
   "source": [
    "#train a model\n",
    "import numpy as np\n",
    "import pandas as pd\n",
    "import matplotlib.pyplot as plt\n",
    "from mpl_toolkits.mplot3d import Axes3D\n",
    "import seaborn as sns\n",
    "%matplotlib inline\n",
    "%config InlineBackend.figure_format = \"retina\"\n",
    "from matplotlib.font_manager import FontProperties\n",
    "fonts = FontProperties(fname=\"C:\\Windows\\Fonts\\SimHei.ttf\", size=14)\n",
    "from sklearn import metrics\n",
    "from sklearn.model_selection import train_test_split\n",
    "from sklearn.datasets import load_iris\n",
    "from sklearn.pipeline import Pipeline\n",
    "from sklearn.preprocessing import StandardScaler\n",
    "from sklearn.model_selection import GridSearchCV\n",
    "from sklearn.neighbors import KNeighborsClassifier\n",
    " \n",
    "Iris = load_iris()\n",
    "train_x,test_x,train_y,test_y = train_test_split(Iris.data,Iris.target,test_size=0.25,random_state=2)\n",
    "pipe_KNN = Pipeline([(\"scale\",StandardScaler()),(\"KNN\",KNeighborsClassifier())])\n",
    "n_neighbors = np.arange(1,10)\n",
    "para_grid = [{\"scale__with_mean\":[True,False],\"KNN__n_neighbors\":n_neighbors}]\n",
    "gs_KNN_ir = GridSearchCV(estimator=pipe_KNN,param_grid=para_grid,cv=10,n_jobs=4)\n",
    "gs_KNN_ir.fit(train_x,train_y)\n",
    "gs_KNN_ir.best_params_"
   ]
  },
  {
   "cell_type": "markdown",
   "id": "cb207b6c",
   "metadata": {},
   "source": [
    "## confusion_matrix"
   ]
  },
  {
   "cell_type": "code",
   "execution_count": null,
   "id": "9673ff3c",
   "metadata": {},
   "outputs": [],
   "source": [
    "confm = metrics.confusion_matrix(test_y,prey)"
   ]
  },
  {
   "cell_type": "code",
   "execution_count": null,
   "id": "7abfaee8",
   "metadata": {},
   "outputs": [],
   "source": [
    "#plot\n",
    "heatmap = sns.heatmap(confm.T,square=True,annot=True,fmt=\"d\",cbar=False,cmap=plt.cm.gray_r)\n",
    "bottom, top = heatmap.get_ylim()\n",
    "heatmap.set_ylim(bottom + 0.5, top - 0.5)\n",
    "plt.xlabel(\"True label\")\n",
    "plt.ylabel(\"Predicted label\")\n",
    "plt.show()"
   ]
  },
  {
   "cell_type": "markdown",
   "id": "ba65aabb",
   "metadata": {},
   "source": [
    "Recall = TP / (TP + FN)\n",
    "\n",
    "Precision = TP / (TP + FP)\n",
    "\n",
    "Accuracy:(TP+TN)/(TP+FP+TN+FN)\n",
    "\n",
    "False discovery rate (FDR)= FP / (FP + TP) =1 – Precision"
   ]
  },
  {
   "cell_type": "code",
   "execution_count": null,
   "id": "1582b312",
   "metadata": {},
   "outputs": [],
   "source": [
    "print(metrics.classification_report(test_y,prey))"
   ]
  },
  {
   "cell_type": "markdown",
   "id": "b2483dd4",
   "metadata": {},
   "source": [
    "True positive rate (TPR)=TP / (TP + FN)\n",
    "\n",
    "True negative rate (TNR)=TN / (TN + FP)\n",
    "\n",
    "FPR = FP / (FP + TN)\n",
    "\n",
    "ROC: TPR:FPR\n",
    "\n",
    "PR: Precision:Recall"
   ]
  },
  {
   "cell_type": "code",
   "execution_count": null,
   "id": "2e3d83a8",
   "metadata": {},
   "outputs": [],
   "source": [
    "#ROC,AUROC\n",
    "from sklearn.metrics import roc_curve, roc_auc_score\n",
    "\n",
    "fpr, tpr, thresholds = roc_curve(test_y, y_pred_proba)\n",
    "sns.set()\n",
    "\n",
    "plt.plot(fpr, tpr)\n",
    "\n",
    "plt.plot(fpr, fpr, linestyle = ‘ — ‘, color = ‘k’)\n",
    "\n",
    "plt.xlabel(‘False positive rate’)\n",
    "\n",
    "plt.ylabel(‘True positive rate’)\n",
    "\n",
    "AUROC = np.round(roc_auc_score(y_test, y_pred_proba), 2)\n",
    "\n",
    "plt.title(f’Logistic Regression Model ROC curve; AUROC: {AUROC}’);\n",
    "\n",
    "plt.show()"
   ]
  },
  {
   "cell_type": "code",
   "execution_count": null,
   "id": "013d5fe0",
   "metadata": {},
   "outputs": [],
   "source": [
    "#PC,AUPRC\n",
    "from sklearn.metrics import precision_recall_curve\n",
    "\n",
    "from sklearn.metrics import average_precision_score\n",
    "\n",
    "average_precision = average_precision_score(y_test, y_test_proba)\n",
    "\n",
    "precision, recall, thresholds = precision_recall_curve(y_test, y_test_proba)\n",
    "\n",
    "plt.plot(recall, precision, marker=’.’, label=’Logistic’)\n",
    "\n",
    "plt.xlabel(‘Recall’)\n",
    "\n",
    "plt.ylabel(‘Precision’)\n",
    "\n",
    "plt.legend()\n",
    "\n",
    "plt.title(f’Precision Recall Curve. AUPRC: {average_precision}’)\n",
    "\n",
    "plt.show()"
   ]
  },
  {
   "cell_type": "code",
   "execution_count": null,
   "id": "f450116b",
   "metadata": {},
   "outputs": [],
   "source": []
  }
 ],
 "metadata": {
  "kernelspec": {
   "display_name": "Python 3 (ipykernel)",
   "language": "python",
   "name": "python3"
  },
  "language_info": {
   "codemirror_mode": {
    "name": "ipython",
    "version": 3
   },
   "file_extension": ".py",
   "mimetype": "text/x-python",
   "name": "python",
   "nbconvert_exporter": "python",
   "pygments_lexer": "ipython3",
   "version": "3.9.12"
  }
 },
 "nbformat": 4,
 "nbformat_minor": 5
}
