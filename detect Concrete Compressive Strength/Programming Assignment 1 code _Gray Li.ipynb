{
 "cells": [
  {
   "cell_type": "code",
   "execution_count": 1,
   "id": "424ed86e",
   "metadata": {},
   "outputs": [],
   "source": [
    "#import modules\n",
    "import pandas as pd\n",
    "import numpy as np\n",
    "import seaborn as sns\n",
    "import matplotlib.pyplot as plt\n",
    "from scipy.stats import zscore\n",
    "from sklearn.model_selection import train_test_split\n",
    "import random\n",
    "import math\n",
    "import statistics"
   ]
  },
  {
   "cell_type": "markdown",
   "id": "4522ac95",
   "metadata": {},
   "source": [
    "# check data information"
   ]
  },
  {
   "cell_type": "code",
   "execution_count": 2,
   "id": "4460081a",
   "metadata": {},
   "outputs": [
    {
     "data": {
      "text/html": [
       "<div>\n",
       "<style scoped>\n",
       "    .dataframe tbody tr th:only-of-type {\n",
       "        vertical-align: middle;\n",
       "    }\n",
       "\n",
       "    .dataframe tbody tr th {\n",
       "        vertical-align: top;\n",
       "    }\n",
       "\n",
       "    .dataframe thead th {\n",
       "        text-align: right;\n",
       "    }\n",
       "</style>\n",
       "<table border=\"1\" class=\"dataframe\">\n",
       "  <thead>\n",
       "    <tr style=\"text-align: right;\">\n",
       "      <th></th>\n",
       "      <th>Cement</th>\n",
       "      <th>Blast Furnace Slag</th>\n",
       "      <th>Fly Ash</th>\n",
       "      <th>Water</th>\n",
       "      <th>Superplasticizer</th>\n",
       "      <th>Coarse Aggregate</th>\n",
       "      <th>Fine Aggregate</th>\n",
       "      <th>Age</th>\n",
       "      <th>Concrete compressive strength</th>\n",
       "    </tr>\n",
       "  </thead>\n",
       "  <tbody>\n",
       "    <tr>\n",
       "      <th>0</th>\n",
       "      <td>540.0</td>\n",
       "      <td>0.0</td>\n",
       "      <td>0.0</td>\n",
       "      <td>162.0</td>\n",
       "      <td>2.5</td>\n",
       "      <td>1040.0</td>\n",
       "      <td>676.0</td>\n",
       "      <td>28</td>\n",
       "      <td>79.986111</td>\n",
       "    </tr>\n",
       "    <tr>\n",
       "      <th>1</th>\n",
       "      <td>540.0</td>\n",
       "      <td>0.0</td>\n",
       "      <td>0.0</td>\n",
       "      <td>162.0</td>\n",
       "      <td>2.5</td>\n",
       "      <td>1055.0</td>\n",
       "      <td>676.0</td>\n",
       "      <td>28</td>\n",
       "      <td>61.887366</td>\n",
       "    </tr>\n",
       "    <tr>\n",
       "      <th>2</th>\n",
       "      <td>332.5</td>\n",
       "      <td>142.5</td>\n",
       "      <td>0.0</td>\n",
       "      <td>228.0</td>\n",
       "      <td>0.0</td>\n",
       "      <td>932.0</td>\n",
       "      <td>594.0</td>\n",
       "      <td>270</td>\n",
       "      <td>40.269535</td>\n",
       "    </tr>\n",
       "    <tr>\n",
       "      <th>3</th>\n",
       "      <td>332.5</td>\n",
       "      <td>142.5</td>\n",
       "      <td>0.0</td>\n",
       "      <td>228.0</td>\n",
       "      <td>0.0</td>\n",
       "      <td>932.0</td>\n",
       "      <td>594.0</td>\n",
       "      <td>365</td>\n",
       "      <td>41.052780</td>\n",
       "    </tr>\n",
       "    <tr>\n",
       "      <th>4</th>\n",
       "      <td>198.6</td>\n",
       "      <td>132.4</td>\n",
       "      <td>0.0</td>\n",
       "      <td>192.0</td>\n",
       "      <td>0.0</td>\n",
       "      <td>978.4</td>\n",
       "      <td>825.5</td>\n",
       "      <td>360</td>\n",
       "      <td>44.296075</td>\n",
       "    </tr>\n",
       "    <tr>\n",
       "      <th>5</th>\n",
       "      <td>266.0</td>\n",
       "      <td>114.0</td>\n",
       "      <td>0.0</td>\n",
       "      <td>228.0</td>\n",
       "      <td>0.0</td>\n",
       "      <td>932.0</td>\n",
       "      <td>670.0</td>\n",
       "      <td>90</td>\n",
       "      <td>47.029847</td>\n",
       "    </tr>\n",
       "    <tr>\n",
       "      <th>6</th>\n",
       "      <td>380.0</td>\n",
       "      <td>95.0</td>\n",
       "      <td>0.0</td>\n",
       "      <td>228.0</td>\n",
       "      <td>0.0</td>\n",
       "      <td>932.0</td>\n",
       "      <td>594.0</td>\n",
       "      <td>365</td>\n",
       "      <td>43.698299</td>\n",
       "    </tr>\n",
       "    <tr>\n",
       "      <th>7</th>\n",
       "      <td>380.0</td>\n",
       "      <td>95.0</td>\n",
       "      <td>0.0</td>\n",
       "      <td>228.0</td>\n",
       "      <td>0.0</td>\n",
       "      <td>932.0</td>\n",
       "      <td>594.0</td>\n",
       "      <td>28</td>\n",
       "      <td>36.447770</td>\n",
       "    </tr>\n",
       "    <tr>\n",
       "      <th>8</th>\n",
       "      <td>266.0</td>\n",
       "      <td>114.0</td>\n",
       "      <td>0.0</td>\n",
       "      <td>228.0</td>\n",
       "      <td>0.0</td>\n",
       "      <td>932.0</td>\n",
       "      <td>670.0</td>\n",
       "      <td>28</td>\n",
       "      <td>45.854291</td>\n",
       "    </tr>\n",
       "    <tr>\n",
       "      <th>9</th>\n",
       "      <td>475.0</td>\n",
       "      <td>0.0</td>\n",
       "      <td>0.0</td>\n",
       "      <td>228.0</td>\n",
       "      <td>0.0</td>\n",
       "      <td>932.0</td>\n",
       "      <td>594.0</td>\n",
       "      <td>28</td>\n",
       "      <td>39.289790</td>\n",
       "    </tr>\n",
       "  </tbody>\n",
       "</table>\n",
       "</div>"
      ],
      "text/plain": [
       "   Cement  Blast Furnace Slag  Fly Ash  Water  Superplasticizer  \\\n",
       "0   540.0                 0.0      0.0  162.0               2.5   \n",
       "1   540.0                 0.0      0.0  162.0               2.5   \n",
       "2   332.5               142.5      0.0  228.0               0.0   \n",
       "3   332.5               142.5      0.0  228.0               0.0   \n",
       "4   198.6               132.4      0.0  192.0               0.0   \n",
       "5   266.0               114.0      0.0  228.0               0.0   \n",
       "6   380.0                95.0      0.0  228.0               0.0   \n",
       "7   380.0                95.0      0.0  228.0               0.0   \n",
       "8   266.0               114.0      0.0  228.0               0.0   \n",
       "9   475.0                 0.0      0.0  228.0               0.0   \n",
       "\n",
       "   Coarse Aggregate  Fine Aggregate  Age  Concrete compressive strength  \n",
       "0            1040.0           676.0   28                      79.986111  \n",
       "1            1055.0           676.0   28                      61.887366  \n",
       "2             932.0           594.0  270                      40.269535  \n",
       "3             932.0           594.0  365                      41.052780  \n",
       "4             978.4           825.5  360                      44.296075  \n",
       "5             932.0           670.0   90                      47.029847  \n",
       "6             932.0           594.0  365                      43.698299  \n",
       "7             932.0           594.0   28                      36.447770  \n",
       "8             932.0           670.0   28                      45.854291  \n",
       "9             932.0           594.0   28                      39.289790  "
      ]
     },
     "execution_count": 2,
     "metadata": {},
     "output_type": "execute_result"
    }
   ],
   "source": [
    "#read data\n",
    "df  = pd.read_excel('Concrete_Data.xls')\n",
    "features = df.columns\n",
    "df.head(10)"
   ]
  },
  {
   "cell_type": "code",
   "execution_count": 3,
   "id": "3ed5dd2e",
   "metadata": {},
   "outputs": [
    {
     "name": "stdout",
     "output_type": "stream",
     "text": [
      "<class 'pandas.core.frame.DataFrame'>\n",
      "RangeIndex: 1030 entries, 0 to 1029\n",
      "Data columns (total 9 columns):\n",
      " #   Column                         Non-Null Count  Dtype  \n",
      "---  ------                         --------------  -----  \n",
      " 0   Cement                         1030 non-null   float64\n",
      " 1   Blast Furnace Slag             1030 non-null   float64\n",
      " 2   Fly Ash                        1030 non-null   float64\n",
      " 3   Water                          1030 non-null   float64\n",
      " 4   Superplasticizer               1030 non-null   float64\n",
      " 5   Coarse Aggregate               1030 non-null   float64\n",
      " 6   Fine Aggregate                 1030 non-null   float64\n",
      " 7   Age                            1030 non-null   int64  \n",
      " 8   Concrete compressive strength  1030 non-null   float64\n",
      "dtypes: float64(8), int64(1)\n",
      "memory usage: 72.5 KB\n"
     ]
    }
   ],
   "source": [
    "df.info()"
   ]
  },
  {
   "cell_type": "code",
   "execution_count": 4,
   "id": "6493c5eb",
   "metadata": {
    "scrolled": true
   },
   "outputs": [
    {
     "data": {
      "text/plain": [
       "Cement                           0\n",
       "Blast Furnace Slag               0\n",
       "Fly Ash                          0\n",
       "Water                            0\n",
       "Superplasticizer                 0\n",
       "Coarse Aggregate                 0\n",
       "Fine Aggregate                   0\n",
       "Age                              0\n",
       "Concrete compressive strength    0\n",
       "dtype: int64"
      ]
     },
     "execution_count": 4,
     "metadata": {},
     "output_type": "execute_result"
    }
   ],
   "source": [
    "#check missing value\n",
    "df.apply(lambda x: sum(x.isnull()))"
   ]
  },
  {
   "cell_type": "code",
   "execution_count": 5,
   "id": "7aa50176",
   "metadata": {},
   "outputs": [],
   "source": [
    "#copy data, save raw data\n",
    "concrete_df = df.copy()"
   ]
  },
  {
   "cell_type": "markdown",
   "id": "821d40d2",
   "metadata": {},
   "source": [
    "# replace outliers"
   ]
  },
  {
   "cell_type": "code",
   "execution_count": 6,
   "id": "66d9716a",
   "metadata": {},
   "outputs": [
    {
     "data": {
      "text/plain": [
       "<AxesSubplot:>"
      ]
     },
     "execution_count": 6,
     "metadata": {},
     "output_type": "execute_result"
    },
    {
     "data": {
      "image/png": "[encoded data removed]",
      "text/plain": [
       "<Figure size 864x432 with 1 Axes>"
      ]
     },
     "metadata": {
      "needs_background": "light"
     },
     "output_type": "display_data"
    }
   ],
   "source": [
    "#ckeck outliers\n",
    "plt.figure(figsize=(12,6))\n",
    "sns.boxplot(data=concrete_df, orient=\"h\", palette=\"Set2\", dodge=False)"
   ]
  },
  {
   "cell_type": "code",
   "execution_count": 7,
   "id": "78803ac6",
   "metadata": {},
   "outputs": [
    {
     "data": {
      "text/plain": [
       "<AxesSubplot:>"
      ]
     },
     "execution_count": 7,
     "metadata": {},
     "output_type": "execute_result"
    },
    {
     "data": {
      "image/png": "[encoded data removed]",
      "text/plain": [
       "<Figure size 1080x576 with 1 Axes>"
      ]
     },
     "metadata": {
      "needs_background": "light"
     },
     "output_type": "display_data"
    }
   ],
   "source": [
    "#replace outliers\n",
    "concrete_df_new = concrete_df.copy()\n",
    "for col_name in concrete_df_new.columns[:-1]:\n",
    "    q1 = concrete_df_new[col_name].quantile(0.25)\n",
    "    q3 = concrete_df_new[col_name].quantile(0.75)\n",
    "    iqr = q3 - q1\n",
    "    low = q1-1.5*iqr\n",
    "    high = q3+1.5*iqr\n",
    "    \n",
    "    concrete_df_new.loc[(concrete_df_new[col_name] < low) | (concrete_df_new[col_name] > high), col_name] = concrete_df_new[col_name].median()\n",
    "plt.figure(figsize=(15,8))\n",
    "sns.boxplot(data=concrete_df_new, orient=\"h\", palette=\"Set2\", dodge=False)"
   ]
  },
  {
   "cell_type": "markdown",
   "id": "6a39ffb9",
   "metadata": {},
   "source": [
    "# Standardization"
   ]
  },
  {
   "cell_type": "code",
   "execution_count": 8,
   "id": "72c678bf",
   "metadata": {},
   "outputs": [
    {
     "data": {
      "text/html": [
       "<div>\n",
       "<style scoped>\n",
       "    .dataframe tbody tr th:only-of-type {\n",
       "        vertical-align: middle;\n",
       "    }\n",
       "\n",
       "    .dataframe tbody tr th {\n",
       "        vertical-align: top;\n",
       "    }\n",
       "\n",
       "    .dataframe thead th {\n",
       "        text-align: right;\n",
       "    }\n",
       "</style>\n",
       "<table border=\"1\" class=\"dataframe\">\n",
       "  <thead>\n",
       "    <tr style=\"text-align: right;\">\n",
       "      <th></th>\n",
       "      <th>count</th>\n",
       "      <th>mean</th>\n",
       "      <th>std</th>\n",
       "      <th>min</th>\n",
       "      <th>25%</th>\n",
       "      <th>50%</th>\n",
       "      <th>75%</th>\n",
       "      <th>max</th>\n",
       "    </tr>\n",
       "  </thead>\n",
       "  <tbody>\n",
       "    <tr>\n",
       "      <th>Cement</th>\n",
       "      <td>1030.0</td>\n",
       "      <td>281.165631</td>\n",
       "      <td>104.507142</td>\n",
       "      <td>102.000000</td>\n",
       "      <td>192.375000</td>\n",
       "      <td>272.900000</td>\n",
       "      <td>350.000000</td>\n",
       "      <td>540.000000</td>\n",
       "    </tr>\n",
       "    <tr>\n",
       "      <th>Blast Furnace Slag</th>\n",
       "      <td>1030.0</td>\n",
       "      <td>73.895485</td>\n",
       "      <td>86.279104</td>\n",
       "      <td>0.000000</td>\n",
       "      <td>0.000000</td>\n",
       "      <td>22.000000</td>\n",
       "      <td>142.950000</td>\n",
       "      <td>359.400000</td>\n",
       "    </tr>\n",
       "    <tr>\n",
       "      <th>Fly Ash</th>\n",
       "      <td>1030.0</td>\n",
       "      <td>54.187136</td>\n",
       "      <td>63.996469</td>\n",
       "      <td>0.000000</td>\n",
       "      <td>0.000000</td>\n",
       "      <td>0.000000</td>\n",
       "      <td>118.270000</td>\n",
       "      <td>200.100000</td>\n",
       "    </tr>\n",
       "    <tr>\n",
       "      <th>Water</th>\n",
       "      <td>1030.0</td>\n",
       "      <td>181.566359</td>\n",
       "      <td>21.355567</td>\n",
       "      <td>121.750000</td>\n",
       "      <td>164.900000</td>\n",
       "      <td>185.000000</td>\n",
       "      <td>192.000000</td>\n",
       "      <td>247.000000</td>\n",
       "    </tr>\n",
       "    <tr>\n",
       "      <th>Superplasticizer</th>\n",
       "      <td>1030.0</td>\n",
       "      <td>6.203112</td>\n",
       "      <td>5.973492</td>\n",
       "      <td>0.000000</td>\n",
       "      <td>0.000000</td>\n",
       "      <td>6.350000</td>\n",
       "      <td>10.160000</td>\n",
       "      <td>32.200000</td>\n",
       "    </tr>\n",
       "    <tr>\n",
       "      <th>Coarse Aggregate</th>\n",
       "      <td>1030.0</td>\n",
       "      <td>972.918592</td>\n",
       "      <td>77.753818</td>\n",
       "      <td>801.000000</td>\n",
       "      <td>932.000000</td>\n",
       "      <td>968.000000</td>\n",
       "      <td>1029.400000</td>\n",
       "      <td>1145.000000</td>\n",
       "    </tr>\n",
       "    <tr>\n",
       "      <th>Fine Aggregate</th>\n",
       "      <td>1030.0</td>\n",
       "      <td>773.578883</td>\n",
       "      <td>80.175427</td>\n",
       "      <td>594.000000</td>\n",
       "      <td>730.950000</td>\n",
       "      <td>779.510000</td>\n",
       "      <td>824.000000</td>\n",
       "      <td>992.600000</td>\n",
       "    </tr>\n",
       "    <tr>\n",
       "      <th>Age</th>\n",
       "      <td>1030.0</td>\n",
       "      <td>45.662136</td>\n",
       "      <td>63.169912</td>\n",
       "      <td>1.000000</td>\n",
       "      <td>7.000000</td>\n",
       "      <td>28.000000</td>\n",
       "      <td>56.000000</td>\n",
       "      <td>365.000000</td>\n",
       "    </tr>\n",
       "    <tr>\n",
       "      <th>Concrete compressive strength</th>\n",
       "      <td>1030.0</td>\n",
       "      <td>35.817836</td>\n",
       "      <td>16.705679</td>\n",
       "      <td>2.331808</td>\n",
       "      <td>23.707115</td>\n",
       "      <td>34.442774</td>\n",
       "      <td>46.136287</td>\n",
       "      <td>82.599225</td>\n",
       "    </tr>\n",
       "  </tbody>\n",
       "</table>\n",
       "</div>"
      ],
      "text/plain": [
       "                                count        mean         std         min  \\\n",
       "Cement                         1030.0  281.165631  104.507142  102.000000   \n",
       "Blast Furnace Slag             1030.0   73.895485   86.279104    0.000000   \n",
       "Fly Ash                        1030.0   54.187136   63.996469    0.000000   \n",
       "Water                          1030.0  181.566359   21.355567  121.750000   \n",
       "Superplasticizer               1030.0    6.203112    5.973492    0.000000   \n",
       "Coarse Aggregate               1030.0  972.918592   77.753818  801.000000   \n",
       "Fine Aggregate                 1030.0  773.578883   80.175427  594.000000   \n",
       "Age                            1030.0   45.662136   63.169912    1.000000   \n",
       "Concrete compressive strength  1030.0   35.817836   16.705679    2.331808   \n",
       "\n",
       "                                      25%         50%          75%  \\\n",
       "Cement                         192.375000  272.900000   350.000000   \n",
       "Blast Furnace Slag               0.000000   22.000000   142.950000   \n",
       "Fly Ash                          0.000000    0.000000   118.270000   \n",
       "Water                          164.900000  185.000000   192.000000   \n",
       "Superplasticizer                 0.000000    6.350000    10.160000   \n",
       "Coarse Aggregate               932.000000  968.000000  1029.400000   \n",
       "Fine Aggregate                 730.950000  779.510000   824.000000   \n",
       "Age                              7.000000   28.000000    56.000000   \n",
       "Concrete compressive strength   23.707115   34.442774    46.136287   \n",
       "\n",
       "                                       max  \n",
       "Cement                          540.000000  \n",
       "Blast Furnace Slag              359.400000  \n",
       "Fly Ash                         200.100000  \n",
       "Water                           247.000000  \n",
       "Superplasticizer                 32.200000  \n",
       "Coarse Aggregate               1145.000000  \n",
       "Fine Aggregate                  992.600000  \n",
       "Age                             365.000000  \n",
       "Concrete compressive strength    82.599225  "
      ]
     },
     "execution_count": 8,
     "metadata": {},
     "output_type": "execute_result"
    }
   ],
   "source": [
    "#Standardization\n",
    "df_transpose = df.describe().T\n",
    "df_transpose"
   ]
  },
  {
   "cell_type": "code",
   "execution_count": 9,
   "id": "1eb3b42f",
   "metadata": {},
   "outputs": [
    {
     "data": {
      "text/html": [
       "<div>\n",
       "<style scoped>\n",
       "    .dataframe tbody tr th:only-of-type {\n",
       "        vertical-align: middle;\n",
       "    }\n",
       "\n",
       "    .dataframe tbody tr th {\n",
       "        vertical-align: top;\n",
       "    }\n",
       "\n",
       "    .dataframe thead th {\n",
       "        text-align: right;\n",
       "    }\n",
       "</style>\n",
       "<table border=\"1\" class=\"dataframe\">\n",
       "  <thead>\n",
       "    <tr style=\"text-align: right;\">\n",
       "      <th></th>\n",
       "      <th>count</th>\n",
       "      <th>mean</th>\n",
       "      <th>std</th>\n",
       "      <th>min</th>\n",
       "      <th>25%</th>\n",
       "      <th>50%</th>\n",
       "      <th>75%</th>\n",
       "      <th>max</th>\n",
       "    </tr>\n",
       "  </thead>\n",
       "  <tbody>\n",
       "    <tr>\n",
       "      <th>Cement</th>\n",
       "      <td>1030.0</td>\n",
       "      <td>4.335798e-17</td>\n",
       "      <td>1.000486</td>\n",
       "      <td>-1.715219</td>\n",
       "      <td>-0.850026</td>\n",
       "      <td>-0.079130</td>\n",
       "      <td>0.658977</td>\n",
       "      <td>2.477918</td>\n",
       "    </tr>\n",
       "    <tr>\n",
       "      <th>Blast Furnace Slag</th>\n",
       "      <td>1030.0</td>\n",
       "      <td>4.248489e-16</td>\n",
       "      <td>1.000486</td>\n",
       "      <td>-0.858191</td>\n",
       "      <td>-0.858191</td>\n",
       "      <td>-0.600407</td>\n",
       "      <td>0.814184</td>\n",
       "      <td>3.150353</td>\n",
       "    </tr>\n",
       "    <tr>\n",
       "      <th>Fly Ash</th>\n",
       "      <td>1030.0</td>\n",
       "      <td>1.267056e-15</td>\n",
       "      <td>1.000486</td>\n",
       "      <td>-0.847132</td>\n",
       "      <td>-0.847132</td>\n",
       "      <td>-0.847132</td>\n",
       "      <td>1.001836</td>\n",
       "      <td>2.281122</td>\n",
       "    </tr>\n",
       "    <tr>\n",
       "      <th>Water</th>\n",
       "      <td>1030.0</td>\n",
       "      <td>-4.093813e-16</td>\n",
       "      <td>1.000486</td>\n",
       "      <td>-2.673240</td>\n",
       "      <td>-0.813466</td>\n",
       "      <td>0.162552</td>\n",
       "      <td>0.502458</td>\n",
       "      <td>2.250549</td>\n",
       "    </tr>\n",
       "    <tr>\n",
       "      <th>Superplasticizer</th>\n",
       "      <td>1030.0</td>\n",
       "      <td>-3.282164e-17</td>\n",
       "      <td>1.000486</td>\n",
       "      <td>-1.090890</td>\n",
       "      <td>-1.090890</td>\n",
       "      <td>0.069134</td>\n",
       "      <td>0.749621</td>\n",
       "      <td>3.183845</td>\n",
       "    </tr>\n",
       "    <tr>\n",
       "      <th>Coarse Aggregate</th>\n",
       "      <td>1030.0</td>\n",
       "      <td>-9.011131e-17</td>\n",
       "      <td>1.000486</td>\n",
       "      <td>-2.212137</td>\n",
       "      <td>-0.526514</td>\n",
       "      <td>-0.063289</td>\n",
       "      <td>0.726766</td>\n",
       "      <td>2.214232</td>\n",
       "    </tr>\n",
       "    <tr>\n",
       "      <th>Fine Aggregate</th>\n",
       "      <td>1030.0</td>\n",
       "      <td>-5.716301e-16</td>\n",
       "      <td>1.000486</td>\n",
       "      <td>-2.269697</td>\n",
       "      <td>-0.528758</td>\n",
       "      <td>0.087340</td>\n",
       "      <td>0.631232</td>\n",
       "      <td>2.192293</td>\n",
       "    </tr>\n",
       "    <tr>\n",
       "      <th>Age</th>\n",
       "      <td>1030.0</td>\n",
       "      <td>-1.662101e-16</td>\n",
       "      <td>1.000486</td>\n",
       "      <td>-1.124724</td>\n",
       "      <td>-0.908821</td>\n",
       "      <td>-0.153159</td>\n",
       "      <td>-0.153159</td>\n",
       "      <td>3.157360</td>\n",
       "    </tr>\n",
       "    <tr>\n",
       "      <th>Concrete compressive strength</th>\n",
       "      <td>1030.0</td>\n",
       "      <td>4.486163e-16</td>\n",
       "      <td>1.000486</td>\n",
       "      <td>-2.005443</td>\n",
       "      <td>-0.725298</td>\n",
       "      <td>-0.082351</td>\n",
       "      <td>0.617961</td>\n",
       "      <td>2.801689</td>\n",
       "    </tr>\n",
       "  </tbody>\n",
       "</table>\n",
       "</div>"
      ],
      "text/plain": [
       "                                count          mean       std       min  \\\n",
       "Cement                         1030.0  4.335798e-17  1.000486 -1.715219   \n",
       "Blast Furnace Slag             1030.0  4.248489e-16  1.000486 -0.858191   \n",
       "Fly Ash                        1030.0  1.267056e-15  1.000486 -0.847132   \n",
       "Water                          1030.0 -4.093813e-16  1.000486 -2.673240   \n",
       "Superplasticizer               1030.0 -3.282164e-17  1.000486 -1.090890   \n",
       "Coarse Aggregate               1030.0 -9.011131e-17  1.000486 -2.212137   \n",
       "Fine Aggregate                 1030.0 -5.716301e-16  1.000486 -2.269697   \n",
       "Age                            1030.0 -1.662101e-16  1.000486 -1.124724   \n",
       "Concrete compressive strength  1030.0  4.486163e-16  1.000486 -2.005443   \n",
       "\n",
       "                                    25%       50%       75%       max  \n",
       "Cement                        -0.850026 -0.079130  0.658977  2.477918  \n",
       "Blast Furnace Slag            -0.858191 -0.600407  0.814184  3.150353  \n",
       "Fly Ash                       -0.847132 -0.847132  1.001836  2.281122  \n",
       "Water                         -0.813466  0.162552  0.502458  2.250549  \n",
       "Superplasticizer              -1.090890  0.069134  0.749621  3.183845  \n",
       "Coarse Aggregate              -0.526514 -0.063289  0.726766  2.214232  \n",
       "Fine Aggregate                -0.528758  0.087340  0.631232  2.192293  \n",
       "Age                           -0.908821 -0.153159 -0.153159  3.157360  \n",
       "Concrete compressive strength -0.725298 -0.082351  0.617961  2.801689  "
      ]
     },
     "execution_count": 9,
     "metadata": {},
     "output_type": "execute_result"
    }
   ],
   "source": [
    "#XScaled = concrete_df.apply(zscore)\n",
    "XScaled = concrete_df_new.apply(zscore)\n",
    "XScaled2 = concrete_df.apply(zscore)\n",
    "\n",
    "XScaled.describe().T"
   ]
  },
  {
   "cell_type": "markdown",
   "id": "70642543",
   "metadata": {},
   "source": [
    "# gradient decent model"
   ]
  },
  {
   "cell_type": "code",
   "execution_count": 10,
   "id": "28b7fc48",
   "metadata": {},
   "outputs": [],
   "source": [
    "# initialize m,b function\n",
    "def initialize(dim):\n",
    "    b=random.random()\n",
    "    m=np.random.rand(dim)\n",
    "    return b,m"
   ]
  },
  {
   "cell_type": "code",
   "execution_count": 11,
   "id": "52790699",
   "metadata": {},
   "outputs": [],
   "source": [
    "#calculate Rsquared function\n",
    "def var_Exp(cost,Y):\n",
    "    y_mean=Y.mean()\n",
    "    dif=Y-y_mean\n",
    "    var=np.sum(np.dot(dif.T,dif))/len(Y)\n",
    "    return 1-cost/var"
   ]
  },
  {
   "cell_type": "markdown",
   "id": "ed465731",
   "metadata": {},
   "source": [
    "# multivariate regression MSE"
   ]
  },
  {
   "cell_type": "code",
   "execution_count": 12,
   "id": "5943bf2c",
   "metadata": {},
   "outputs": [],
   "source": [
    "# calculate prediction\n",
    "def pred_MSE_mul(b,m,X):\n",
    "    return b + np.dot(X,m)"
   ]
  },
  {
   "cell_type": "code",
   "execution_count": 13,
   "id": "5bdbea77",
   "metadata": {},
   "outputs": [],
   "source": [
    "#calculate cost: MSE\n",
    "def MSE_loss(Y,Y_pre):\n",
    "    Y_dif=Y-Y_pre\n",
    "    return np.sum(Y_dif**2)/len(Y)"
   ]
  },
  {
   "cell_type": "code",
   "execution_count": 14,
   "id": "24442b7a",
   "metadata": {},
   "outputs": [],
   "source": [
    "#update m,b\n",
    "def update_MSE_mul(X,Y,b,m,alpha):\n",
    "    Y_pre=pred_MSE_mul(b,m,X)\n",
    "    db=(np.sum(Y_pre-Y)*2)/len(Y)\n",
    "    #print(\"db\",db)\n",
    "    b_n=b-alpha*db\n",
    "    m_n=list(range(len(m)))\n",
    "    for i in range(len(m)):\n",
    "        dw=2*np.dot((Y_pre-Y),X[:,i])/len(Y)\n",
    "        #print(\"dw\",dw)\n",
    "        m_n[i]=m[i]-alpha*dw\n",
    "    return b_n,m_n\n"
   ]
  },
  {
   "cell_type": "code",
   "execution_count": 15,
   "id": "fc6578ee",
   "metadata": {},
   "outputs": [],
   "source": [
    "#define running function\n",
    "def run_MSE_mul(X,Y,alpha,num_iterations,delta):\n",
    "    b,m=initialize(X.shape[1])\n",
    "    print(b,m)\n",
    "    iter_num=0\n",
    "    gd_iterations_df=pd.DataFrame(columns=['iteration','cost'])\n",
    "    prev_cost=float(\"inf\")\n",
    "    Y_pre=pred_MSE_mul(b,m,X)\n",
    "    this_cost=MSE_loss(Y,Y_pre)\n",
    "    print(prev_cost - this_cost)\n",
    "    gd_iterations_df.loc[iter_num]=[iter_num,this_cost]\n",
    "    \n",
    "    while prev_cost - this_cost > delta and iter_num < num_iterations:\n",
    "        iter_num +=1\n",
    "        b,m=update_MSE_mul(X,Y,b,m,alpha)\n",
    "        Y_pre=pred_MSE_mul(b,m,X)\n",
    "        prev_cost=this_cost\n",
    "        this_cost=MSE_loss(Y,Y_pre)\n",
    "        gd_iterations_df.loc[iter_num]=[iter_num,this_cost]\n",
    "        \n",
    "    ve=var_Exp(this_cost,Y_pre)\n",
    "    print(\"Final Estimate of b and m : \",b,m)\n",
    "    print(\"Variance explained:\",ve)\n",
    "    return gd_iterations_df,b,m,ve\n"
   ]
  },
  {
   "cell_type": "code",
   "execution_count": 16,
   "id": "28208493",
   "metadata": {},
   "outputs": [],
   "source": [
    "#split data standarlized, preprocessed data\n",
    "Y_set = XScaled['Concrete compressive strength'].values\n",
    "X_set = XScaled.drop(labels= \"Concrete compressive strength\" , axis = 1).values\n",
    "\n",
    "# data spliting using 80:20 train test data ratio and randon seeding 6\n",
    "X_train, X_test, Y_train, Y_test = train_test_split(X_set, Y_set, train_size=900,test_size=130, random_state=6)"
   ]
  },
  {
   "cell_type": "code",
   "execution_count": 17,
   "id": "5904725d",
   "metadata": {},
   "outputs": [],
   "source": [
    "#split data standarlized,raw data\n",
    "Y_set1 = XScaled2['Concrete compressive strength'].values\n",
    "X_set1 = XScaled2.drop(labels= \"Concrete compressive strength\" , axis = 1).values\n",
    "\n",
    "# data spliting using 80:20 train test data ratio and randon seeding 6\n",
    "X_train1, X_test1, Y_train1, Y_test1 = train_test_split(X_set1, Y_set1, train_size=900,test_size=130, random_state=6)"
   ]
  },
  {
   "cell_type": "code",
   "execution_count": 18,
   "id": "aaa43638",
   "metadata": {
    "scrolled": false
   },
   "outputs": [
    {
     "name": "stdout",
     "output_type": "stream",
     "text": [
      "0.9452536814885143 [0.13894527 0.74862874 0.63706775 0.55637637 0.98576745 0.92577673\n",
      " 0.98680499 0.27003892]\n",
      "inf\n",
      "Final Estimate of b and m :  -0.0017759230838209903 [0.669298745306521, 0.3903936939855271, 0.19811536904989677, -0.18361233449245445, 0.07460755722439127, -0.007408810253346295, -0.046943905608937436, 0.5128189636280494]\n",
      "Variance explained: 0.5987599818273279\n"
     ]
    }
   ],
   "source": [
    "#run model on training data\n",
    "gd_iterations_df,b,m,ve=run_MSE_mul(X_train,Y_train,alpha=0.1,num_iterations=200000,delta=1e-5)"
   ]
  },
  {
   "cell_type": "code",
   "execution_count": 19,
   "id": "4a483f6a",
   "metadata": {
    "scrolled": false
   },
   "outputs": [
    {
     "data": {
      "text/plain": [
       "Text(0, 0.5, 'Cost or MSE')"
      ]
     },
     "execution_count": 19,
     "metadata": {},
     "output_type": "execute_result"
    },
    {
     "data": {
      "image/png": "[encoded data removed]",
      "text/plain": [
       "<Figure size 432x288 with 1 Axes>"
      ]
     },
     "metadata": {
      "needs_background": "light"
     },
     "output_type": "display_data"
    }
   ],
   "source": [
    "%matplotlib inline\n",
    "plt.plot(gd_iterations_df['iteration'],gd_iterations_df['cost'])\n",
    "plt.xlabel('Number of iterations')\n",
    "plt.ylabel('Cost or MSE')"
   ]
  },
  {
   "cell_type": "code",
   "execution_count": 20,
   "id": "74e05986",
   "metadata": {},
   "outputs": [
    {
     "data": {
      "text/plain": [
       "0.3555934612187084"
      ]
     },
     "execution_count": 20,
     "metadata": {},
     "output_type": "execute_result"
    }
   ],
   "source": [
    "#calculate VE on raw train data\n",
    "Y_pre=pred_MSE_mul(b,m,X_train1)\n",
    "mse=MSE_loss(Y_train1,Y_pre)\n",
    "var_Exp(mse,Y_pre)"
   ]
  },
  {
   "cell_type": "code",
   "execution_count": 21,
   "id": "cf9c103e",
   "metadata": {},
   "outputs": [
    {
     "data": {
      "text/plain": [
       "0.6085270420718567"
      ]
     },
     "execution_count": 21,
     "metadata": {},
     "output_type": "execute_result"
    }
   ],
   "source": [
    "#calculate VE on preprocessed test data\n",
    "Y_pre=pred_MSE_mul(b,m,X_test)\n",
    "mse=MSE_loss(Y_test,Y_pre)\n",
    "var_Exp(mse,Y_pre)"
   ]
  },
  {
   "cell_type": "code",
   "execution_count": 22,
   "id": "2f980034",
   "metadata": {},
   "outputs": [
    {
     "data": {
      "text/plain": [
       "0.40419338604734834"
      ]
     },
     "execution_count": 22,
     "metadata": {},
     "output_type": "execute_result"
    }
   ],
   "source": [
    "#calculate VE on raw train data\n",
    "Y_pre=pred_MSE_mul(b,m,X_test1)\n",
    "mse=MSE_loss(Y_test1,Y_pre)\n",
    "var_Exp(mse,Y_pre)"
   ]
  },
  {
   "cell_type": "markdown",
   "id": "3c8c222a",
   "metadata": {},
   "source": [
    "# univariate regression MSE"
   ]
  },
  {
   "cell_type": "code",
   "execution_count": 23,
   "id": "eb1a1a65",
   "metadata": {},
   "outputs": [],
   "source": [
    "#define loss function for univariate\n",
    "def MSE_loss_function(x, y, m, b):\n",
    "    n=len(x)\n",
    "    return 1 / n * np.sum((y - (m*x + b)) ** 2)"
   ]
  },
  {
   "cell_type": "code",
   "execution_count": 24,
   "id": "8ded98ec",
   "metadata": {},
   "outputs": [],
   "source": [
    "#define function run model on univariate\n",
    "def run_MSE_uni(feature, x_train, y_train, x_test, y_test,X_train1, X_test1, Y_train1, Y_test1,num_iterations, alpha,delta):\n",
    "\n",
    "    # init\n",
    "    #b=0.01\n",
    "    #m=0.1\n",
    "    b,m=initialize(1)\n",
    "    #print(m)\n",
    "    old_mse = float(\"inf\")\n",
    "    iteration = 0\n",
    "    mse = MSE_loss_function(x_train, y_train, m, b)\n",
    "    #print(\"mse\",mse)\n",
    "\n",
    "    # when to stop, start training\n",
    "    while old_mse - mse > delta and iteration < num_iterations:\n",
    "        y_pred = m * x_train + b\n",
    "        m = m - alpha / len(x_train) * np.sum(-2 * x_train * (y_train - y_pred))\n",
    "        #print(m)\n",
    "        b = b - alpha / len(x_train) * np.sum(-2 * y_train - y_pred)\n",
    "        old_mse = mse\n",
    "        mse = MSE_loss_function(x_train, y_train, m, b)\n",
    "        #print(\"old_mse\",old_mse)\n",
    "        #print(\"mse\",mse)\n",
    "        #print(\"old_mse - mse\",old_mse - mse)\n",
    "        iteration += 1\n",
    "\n",
    "    # print result\n",
    "    print('%s' %(feature))\n",
    "    print(\"Stop after %s iteration\" %(iteration))\n",
    "    print('Final m: %s' %(m))\n",
    "    print('Final b: %s' %(b))\n",
    "    print(f\"Final Regression algorithm: f(x) = { np.round(m, 3) } * x + {np.round(b, 3)}\" )\n",
    "\n",
    "    print('Variance explained of your models on the testing data points: %s' %(1-MSE_loss_function(x_test, y_test, m, b)/statistics.variance(y_test)))\n",
    "    print('Variance explained of your models on the training dataset: %s' %(1-MSE_loss_function(x_train, y_train, m, b)/statistics.variance(y_train)))\n",
    "    print(\"----------------------------------------------------------------\")\n",
    "    print('Variance explained of your models on the raw testing data points: %s' %(1-MSE_loss_function(X_test1, Y_test1, m, b)/statistics.variance(Y_test1)))\n",
    "    print('Variance explained of your models on the raw training dataset: %s' %(1-MSE_loss_function(X_train1, Y_train1, m, b)/statistics.variance(Y_train1)))\n",
    "    print(\"----------------------------------------------------------------\")\n",
    "\n",
    "    # plot\n",
    "    plt.figure()\n",
    "    plt.scatter(x_train, y_train, s=5)\n",
    "    x_range = np.arange(np.min(x_train), np.max(x_train), 0.1)\n",
    "    y_range = m * x_range + b\n",
    "    plt.plot(x_range, y_range)\n",
    "    plt.title(feature)\n",
    "    plt.xlabel(feature)\n",
    "    plt.ylabel(features[-1])\n",
    "    plt.show()\n",
    "    plt.close()"
   ]
  },
  {
   "cell_type": "code",
   "execution_count": 25,
   "id": "9b34ced1",
   "metadata": {},
   "outputs": [],
   "source": [
    "#incase start from here, I copy new split function\n",
    "#split data not standardized,preprocessed\n",
    "Y_set = concrete_df_new['Concrete compressive strength'].values\n",
    "X_set = concrete_df_new.drop(labels= \"Concrete compressive strength\" , axis = 1).values\n",
    "\n",
    "# data spliting using 900:130 train test data ratio and randon seeding 6\n",
    "X_train, X_test, Y_train, Y_test = train_test_split(X_set, Y_set, train_size=900,test_size=130, random_state=6)"
   ]
  },
  {
   "cell_type": "code",
   "execution_count": 26,
   "id": "2e584e09",
   "metadata": {},
   "outputs": [],
   "source": [
    "#split data not standardized,raw data\n",
    "Y_set1 = df['Concrete compressive strength'].values\n",
    "X_set1 = df.drop(labels= \"Concrete compressive strength\" , axis = 1).values\n",
    "\n",
    "# data spliting using 900:130 train test data ratio and randon seeding 6\n",
    "X_train1, X_test1, Y_train1, Y_test1 = train_test_split(X_set1, Y_set1, train_size=900,test_size=130, random_state=6)"
   ]
  },
  {
   "cell_type": "code",
   "execution_count": 27,
   "id": "a820db35",
   "metadata": {
    "scrolled": true
   },
   "outputs": [
    {
     "name": "stdout",
     "output_type": "stream",
     "text": [
      "Cement\n",
      "Stop after 12408 iteration\n",
      "Final m: [0.07973483]\n",
      "Final b: 13.134636925189938\n",
      "Final Regression algorithm: f(x) = [0.08] * x + 13.135\n",
      "Variance explained of your models on the testing data points: 0.2418291829846979\n",
      "Variance explained of your models on the training dataset: 0.2482316372252592\n",
      "----------------------------------------------------------------\n",
      "Variance explained of your models on the raw testing data points: 0.2418291829846979\n",
      "Variance explained of your models on the raw training dataset: 0.2482316372252592\n",
      "----------------------------------------------------------------\n"
     ]
    },
    {
     "data": {
      "image/png": "[encoded data removed]",
      "text/plain": [
       "<Figure size 432x288 with 1 Axes>"
      ]
     },
     "metadata": {
      "needs_background": "light"
     },
     "output_type": "display_data"
    },
    {
     "name": "stdout",
     "output_type": "stream",
     "text": [
      "Blast Furnace Slag\n",
      "Stop after 34705 iteration\n",
      "Final m: [0.02295607]\n",
      "Final b: 33.8518131588916\n",
      "Final Regression algorithm: f(x) = [0.023] * x + 33.852\n",
      "Variance explained of your models on the testing data points: 0.038295451584332785\n",
      "Variance explained of your models on the training dataset: 0.01472490745579813\n",
      "----------------------------------------------------------------\n",
      "Variance explained of your models on the raw testing data points: 0.038295451584332785\n",
      "Variance explained of your models on the raw training dataset: 0.01399893230237459\n",
      "----------------------------------------------------------------\n"
     ]
    },
    {
     "data": {
      "image/png": "[encoded data removed]",
      "text/plain": [
       "<Figure size 432x288 with 1 Axes>"
      ]
     },
     "metadata": {
      "needs_background": "light"
     },
     "output_type": "display_data"
    },
    {
     "name": "stdout",
     "output_type": "stream",
     "text": [
      "Fly Ash\n",
      "Stop after 38212 iteration\n",
      "Final m: [-0.021176]\n",
      "Final b: 36.65405187479854\n",
      "Final Regression algorithm: f(x) = [-0.021] * x + 36.654\n",
      "Variance explained of your models on the testing data points: 0.023168648272968162\n",
      "Variance explained of your models on the training dataset: 0.00780387098387425\n",
      "----------------------------------------------------------------\n",
      "Variance explained of your models on the raw testing data points: 0.023168648272968162\n",
      "Variance explained of your models on the raw training dataset: 0.00780387098387425\n",
      "----------------------------------------------------------------\n"
     ]
    },
    {
     "data": {
      "image/png": "[encoded data removed]",
      "text/plain": [
       "<Figure size 432x288 with 1 Axes>"
      ]
     },
     "metadata": {
      "needs_background": "light"
     },
     "output_type": "display_data"
    },
    {
     "name": "stdout",
     "output_type": "stream",
     "text": [
      "Water\n",
      "Stop after 76575 iteration\n",
      "Final m: [-0.25226478]\n",
      "Final b: 81.34199687816204\n",
      "Final Regression algorithm: f(x) = [-0.252] * x + 81.342\n",
      "Variance explained of your models on the testing data points: 0.04987307949259456\n",
      "Variance explained of your models on the training dataset: 0.10111962206108072\n",
      "----------------------------------------------------------------\n",
      "Variance explained of your models on the raw testing data points: 0.028437969512623673\n",
      "Variance explained of your models on the raw training dataset: 0.09082049126407621\n",
      "----------------------------------------------------------------\n"
     ]
    },
    {
     "data": {
      "image/png": "[encoded data removed]",
      "text/plain": [
       "<Figure size 432x288 with 1 Axes>"
      ]
     },
     "metadata": {
      "needs_background": "light"
     },
     "output_type": "display_data"
    },
    {
     "name": "stdout",
     "output_type": "stream",
     "text": [
      "Superplasticizer\n",
      "Stop after 29332 iteration\n",
      "Final m: [1.1152991]\n",
      "Final b: 29.291625765898686\n",
      "Final Regression algorithm: f(x) = [1.115] * x + 29.292\n",
      "Variance explained of your models on the testing data points: 0.11120644395952817\n",
      "Variance explained of your models on the training dataset: 0.12039177835566706\n",
      "----------------------------------------------------------------\n",
      "Variance explained of your models on the raw testing data points: 0.11488193154245185\n",
      "Variance explained of your models on the raw training dataset: 0.1348945058628498\n",
      "----------------------------------------------------------------\n"
     ]
    },
    {
     "data": {
      "image/png": "[encoded data removed]",
      "text/plain": [
       "<Figure size 432x288 with 1 Axes>"
      ]
     },
     "metadata": {
      "needs_background": "light"
     },
     "output_type": "display_data"
    },
    {
     "name": "stdout",
     "output_type": "stream",
     "text": [
      "Coarse Aggregate\n",
      "Stop after 1 iteration\n",
      "Final m: [-11.74618099]\n",
      "Final b: 0.38788386947362163\n",
      "Final Regression algorithm: f(x) = [-11.746] * x + 0.388\n",
      "Variance explained of your models on the testing data points: -436759.5138092391\n",
      "Variance explained of your models on the training dataset: -480472.8043389211\n",
      "----------------------------------------------------------------\n",
      "Variance explained of your models on the raw testing data points: -436759.5138092391\n",
      "Variance explained of your models on the raw training dataset: -480472.8043389211\n",
      "----------------------------------------------------------------\n"
     ]
    },
    {
     "data": {
      "image/png": "[encoded data removed]",
      "text/plain": [
       "<Figure size 432x288 with 1 Axes>"
      ]
     },
     "metadata": {
      "needs_background": "light"
     },
     "output_type": "display_data"
    },
    {
     "name": "stdout",
     "output_type": "stream",
     "text": [
      "Fine Aggregate\n",
      "Stop after 1 iteration\n",
      "Final m: [-9.40565883]\n",
      "Final b: 0.6206950029827911\n",
      "Final Regression algorithm: f(x) = [-9.406] * x + 0.621\n",
      "Variance explained of your models on the testing data points: -173119.1227496267\n",
      "Variance explained of your models on the training dataset: -196430.3908192493\n",
      "----------------------------------------------------------------\n",
      "Variance explained of your models on the raw testing data points: -173119.1227496267\n",
      "Variance explained of your models on the raw training dataset: -197109.19954336702\n",
      "----------------------------------------------------------------\n"
     ]
    },
    {
     "data": {
      "image/png": "[encoded data removed]",
      "text/plain": [
       "<Figure size 432x288 with 1 Axes>"
      ]
     },
     "metadata": {
      "needs_background": "light"
     },
     "output_type": "display_data"
    },
    {
     "name": "stdout",
     "output_type": "stream",
     "text": [
      "Age\n",
      "Stop after 24597 iteration\n",
      "Final m: [0.30305009]\n",
      "Final b: 25.85283320633449\n",
      "Final Regression algorithm: f(x) = [0.303] * x + 25.853\n",
      "Variance explained of your models on the testing data points: 0.22094582742170965\n",
      "Variance explained of your models on the training dataset: 0.25402279289779894\n",
      "----------------------------------------------------------------\n",
      "Variance explained of your models on the raw testing data points: -0.8707990495234716\n",
      "Variance explained of your models on the raw training dataset: -0.5726760873288781\n",
      "----------------------------------------------------------------\n"
     ]
    },
    {
     "data": {
      "image/png": "[encoded data removed]",
      "text/plain": [
       "<Figure size 432x288 with 1 Axes>"
      ]
     },
     "metadata": {
      "needs_background": "light"
     },
     "output_type": "display_data"
    }
   ],
   "source": [
    "#fit models for every feature\n",
    "for i, feature in enumerate(features[:-1]):\n",
    "    x_train = X_train[:, i]\n",
    "    x_test = X_test[:, i]\n",
    "    x_train1 = X_train1[:, i]\n",
    "    x_test1 = X_test1[:, i]\n",
    "    run_MSE_uni(feature, x_train, Y_train, x_test, Y_test, x_train1,x_test1,Y_train1,Y_test1,num_iterations=200000,alpha=0.00001,delta=1e-5)"
   ]
  },
  {
   "cell_type": "markdown",
   "id": "c210da3b",
   "metadata": {},
   "source": [
    "# multivariate regression MAE"
   ]
  },
  {
   "cell_type": "code",
   "execution_count": 28,
   "id": "8912ef13",
   "metadata": {},
   "outputs": [],
   "source": [
    "#incase start from here, I copy new split function\n",
    "#split data standarlized\n",
    "Y_set = XScaled['Concrete compressive strength'].values\n",
    "X_set = XScaled.drop(labels= \"Concrete compressive strength\" , axis = 1).values\n",
    "\n",
    "# data spliting using 80:20 train test data ratio and randon seeding 6\n",
    "X_train, X_test, Y_train, Y_test = train_test_split(X_set, Y_set, train_size=900,test_size=130, random_state=6)"
   ]
  },
  {
   "cell_type": "code",
   "execution_count": 29,
   "id": "05425a95",
   "metadata": {},
   "outputs": [],
   "source": [
    "#need a new function for MAE and RIdge\n",
    "#calculate Rsquared MAE\n",
    "def var_Exp_new(Y_pre,Y):\n",
    "    y_mean=Y.mean()\n",
    "    SST=sum((Y-y_mean)**2)\n",
    "    SSE=sum((Y-Y_pre)**2)\n",
    "    SSR=SST-SSE\n",
    "    \n",
    "    return SSR/SST"
   ]
  },
  {
   "cell_type": "code",
   "execution_count": 30,
   "id": "cf1bfaad",
   "metadata": {},
   "outputs": [],
   "source": [
    "# calculate prediction\n",
    "def pred_MAE_mul(b,m,X):\n",
    "    return b + np.dot(X,m)"
   ]
  },
  {
   "cell_type": "code",
   "execution_count": 31,
   "id": "d25250dd",
   "metadata": {},
   "outputs": [],
   "source": [
    "#define loss function\n",
    "def MAE_loss(Y,Y_pre):\n",
    "    Y_dif=Y-Y_pre\n",
    "    return np.sum(abs(Y_dif))/len(Y)"
   ]
  },
  {
   "cell_type": "code",
   "execution_count": 32,
   "id": "891fb523",
   "metadata": {},
   "outputs": [],
   "source": [
    "#define update function\n",
    "def update_MAE_mul(X,Y,b,m,alpha):\n",
    "    Y_pre=pred_MAE_mul(b,m,X)\n",
    "    diff=Y_pre-Y\n",
    "    g=np.array(list(map(lambda diff : 0 if diff == 0 else 1 if diff > 0 else -1, list(X.dot(m) - Y))))\n",
    "    db=(np.sum(g))/len(Y)\n",
    "    #print(\"db\",db)\n",
    "    b_n=b-alpha*db\n",
    "    m_n=list(range(len(m)))\n",
    "    for i in range(len(m)):\n",
    "        dw=sum(g*X[:,i])/len(Y)\n",
    "        #print(\"dw\",dw)\n",
    "        m_n[i]=m[i]-alpha*dw\n",
    "    return b_n,m_n"
   ]
  },
  {
   "cell_type": "code",
   "execution_count": 33,
   "id": "c44b2589",
   "metadata": {},
   "outputs": [],
   "source": [
    "#define running function\n",
    "def run_MAE_mul(X,Y,alpha,num_iterations,delta):\n",
    "    b,m=initialize(X.shape[1])\n",
    "    print(b,m)\n",
    "    iter_num=0\n",
    "    gd_iterations_df=pd.DataFrame(columns=['iteration','cost'])\n",
    "    prev_cost=float(\"inf\")\n",
    "    Y_pre=pred_MAE_mul(b,m,X)\n",
    "    this_cost=MAE_loss(Y,Y_pre)\n",
    "    print(prev_cost - this_cost)\n",
    "    gd_iterations_df.loc[iter_num]=[iter_num,this_cost]\n",
    "    \n",
    "    while abs(prev_cost - this_cost) > delta and iter_num < num_iterations:\n",
    "        iter_num +=1\n",
    "        b,m=update_MAE_mul(X,Y,b,m,alpha)\n",
    "        Y_pre=pred_MAE_mul(b,m,X)\n",
    "        prev_cost=this_cost\n",
    "        this_cost=MAE_loss(Y,Y_pre)\n",
    "        gd_iterations_df.loc[iter_num]=[iter_num,this_cost]\n",
    " \n",
    "    ve=var_Exp_new(Y_pre,Y)\n",
    "    print(\"Final Estimate of b and m : \",b,m)\n",
    "    print(\"Variance explained:\",ve)\n",
    "    return gd_iterations_df,b,m,ve"
   ]
  },
  {
   "cell_type": "code",
   "execution_count": 36,
   "id": "23b80c3a",
   "metadata": {},
   "outputs": [
    {
     "name": "stdout",
     "output_type": "stream",
     "text": [
      "0.279053941225881 [0.72971785 0.99800501 0.30696726 0.49465375 0.33119396 0.37145975\n",
      " 0.7861669  0.32481842]\n",
      "inf\n",
      "Final Estimate of b and m :  0.0071983856703168765 [1.0894505130907401, 0.7729043684459992, 0.449559656619727, 0.21796855474703117, 0.24881258782732618, 0.33417711917285947, 0.34333385227593627, 0.49566405062296287]\n",
      "Variance explained: 0.6607856363492844\n"
     ]
    }
   ],
   "source": [
    "#run function on training data\n",
    "gd_iterations_df,b,m,ve=run_MAE_mul(X_train,Y_train,alpha=0.001,num_iterations=200000,delta=1e-5)"
   ]
  },
  {
   "cell_type": "code",
   "execution_count": 37,
   "id": "122c90a6",
   "metadata": {},
   "outputs": [
    {
     "data": {
      "text/plain": [
       "0.7135352483515304"
      ]
     },
     "execution_count": 37,
     "metadata": {},
     "output_type": "execute_result"
    }
   ],
   "source": [
    "#calculate VE on preprocessed test data\n",
    "Y_pre=pred_MAE_mul(b,m,X_test)\n",
    "var_Exp_new(Y_pre,Y_test)"
   ]
  },
  {
   "cell_type": "markdown",
   "id": "e50f9217",
   "metadata": {},
   "source": [
    "# univariate regression MAE"
   ]
  },
  {
   "cell_type": "code",
   "execution_count": 38,
   "id": "05b7c700",
   "metadata": {},
   "outputs": [],
   "source": [
    "#incase start from here, I copy new split function\n",
    "#split data not standardized\n",
    "Y_set = concrete_df_new['Concrete compressive strength'].values\n",
    "X_set = concrete_df_new.drop(labels= \"Concrete compressive strength\" , axis = 1).values\n",
    "\n",
    "# data spliting using 80:20 train test data ratio and randon seeding 6\n",
    "X_train, X_test, Y_train, Y_test = train_test_split(X_set, Y_set, train_size=900,test_size=130, random_state=6)"
   ]
  },
  {
   "cell_type": "code",
   "execution_count": 39,
   "id": "867636eb",
   "metadata": {},
   "outputs": [],
   "source": [
    "#define loss function for univariate\n",
    "def MAE_loss_function(x, y, m, b):\n",
    "    n=len(x)\n",
    "    return 1 / n * np.sum(abs(y - (m*x + b)))"
   ]
  },
  {
   "cell_type": "code",
   "execution_count": 40,
   "id": "0f20a9c5",
   "metadata": {},
   "outputs": [
    {
     "data": {
      "text/plain": [
       "'    # plot\\n    plt.figure()\\n    plt.scatter(x_train, y_train, s=5)\\n    x_range = np.arange(np.min(x_train), np.max(x_train), 0.1)\\n    y_range = m * x_range + b\\n    plt.plot(x_range, y_range)\\n    plt.title(feature)\\n    plt.xlabel(feature)\\n    plt.ylabel(features[-1])\\n    plt.show()\\n    plt.close()'"
      ]
     },
     "execution_count": 40,
     "metadata": {},
     "output_type": "execute_result"
    }
   ],
   "source": [
    "#define running function\n",
    "def run_MSE_uni(feature, x_train, y_train, x_test, y_test,num_iterations, alpha,delta):\n",
    "\n",
    "    # init\n",
    "    b,m=initialize(1)\n",
    "    #print(m)\n",
    "    old_mse = float(\"inf\")\n",
    "    iteration = 0\n",
    "    mse = MAE_loss_function(x_train, y_train, m, b)\n",
    "    #print(\"mse\",mse)\n",
    "\n",
    "    # when to stop, start training\n",
    "    while old_mse - mse > delta and iteration < num_iterations:\n",
    "        y_pred = m * x_train + b\n",
    "        diff=y_pred-y_train\n",
    "        g=np.array(list(map(lambda diff : 0 if diff == 0 else 1 if diff > 0 else -1, list(x_train*m - y_train))))\n",
    "        db=(np.sum(g))/len(y_train)\n",
    "        b=b-alpha*db\n",
    "        dm=sum(g.T*x_train)/len(y_train)\n",
    "        m = m -alpha*dm\n",
    "        #print(m)\n",
    " \n",
    "        old_mse = mse\n",
    "        mse = MAE_loss_function(x_train, y_train, m, b)\n",
    "        #print(\"old_mse\",old_mse)\n",
    "        #print(\"mse\",mse)\n",
    "        #print(\"old_mse - mse\",old_mse - mse)\n",
    "        iteration += 1\n",
    "\n",
    "    # print result\n",
    "    print('%s' %(feature))\n",
    "    print(\"Stop after %s iteration\" %(iteration))\n",
    "    print('Final m: %s' %(m))\n",
    "    print('Final b: %s' %(b))\n",
    "    print(f\"Final Regression algorithm: f(x) = { np.round(m, 3) } * x + {np.round(b, 3)}\" )\n",
    "    y_pred1=m * x_test + b\n",
    "    ve1=var_Exp_new(y_pred1,y_test)\n",
    "    ve2=var_Exp_new(y_pred,y_train)\n",
    "    print('Variance explained of your models on the testing data points: %s' %(ve1))\n",
    "    print('Variance explained of your models on the training dataset: %s' %(ve2))\n",
    "    print(\"----------------------------------------------------------------\")\n",
    "\n",
    "\n",
    "\"\"\"    # plot\n",
    "    plt.figure()\n",
    "    plt.scatter(x_train, y_train, s=5)\n",
    "    x_range = np.arange(np.min(x_train), np.max(x_train), 0.1)\n",
    "    y_range = m * x_range + b\n",
    "    plt.plot(x_range, y_range)\n",
    "    plt.title(feature)\n",
    "    plt.xlabel(feature)\n",
    "    plt.ylabel(features[-1])\n",
    "    plt.show()\n",
    "    plt.close()\"\"\""
   ]
  },
  {
   "cell_type": "code",
   "execution_count": 41,
   "id": "538b0295",
   "metadata": {
    "scrolled": false
   },
   "outputs": [
    {
     "name": "stdout",
     "output_type": "stream",
     "text": [
      "Cement\n",
      "Stop after 1300 iteration\n",
      "Final m: [0.11795399]\n",
      "Final b: 0.7218232877853946\n",
      "Final Regression algorithm: f(x) = [0.118] * x + 0.722\n",
      "Variance explained of your models on the testing data points: 0.14543387232189448\n",
      "Variance explained of your models on the training dataset: 0.17958166168570328\n",
      "----------------------------------------------------------------\n",
      "Blast Furnace Slag\n",
      "Stop after 18023 iteration\n",
      "Final m: [0.20923006]\n",
      "Final b: 0.7979883140576053\n",
      "Final Regression algorithm: f(x) = [0.209] * x + 0.798\n",
      "Variance explained of your models on the testing data points: -1.9858439313979837\n",
      "Variance explained of your models on the training dataset: -2.28937064662029\n",
      "----------------------------------------------------------------\n",
      "Fly Ash\n",
      "Stop after 10099 iteration\n",
      "Final m: [0.26970985]\n",
      "Final b: 0.32059130960852933\n",
      "Final Regression algorithm: f(x) = [0.27] * x + 0.321\n",
      "Variance explained of your models on the testing data points: -3.272730811078198\n",
      "Variance explained of your models on the training dataset: -2.7934974151243352\n",
      "----------------------------------------------------------------\n",
      "Water\n",
      "Stop after 6158 iteration\n",
      "Final m: [0.18062538]\n",
      "Final b: 0.35399229851083824\n",
      "Final Regression algorithm: f(x) = [0.181] * x + 0.354\n",
      "Variance explained of your models on the testing data points: -0.22795855676422444\n",
      "Variance explained of your models on the training dataset: -0.21270402159415483\n",
      "----------------------------------------------------------------\n",
      "Superplasticizer\n",
      "Stop after 200000 iteration\n",
      "Final m: [1.20909247]\n",
      "Final b: 0.579348741688726\n",
      "Final Regression algorithm: f(x) = [1.209] * x + 0.579\n",
      "Variance explained of your models on the testing data points: -2.8752730573258023\n",
      "Variance explained of your models on the training dataset: -2.6802586712307472\n",
      "----------------------------------------------------------------\n",
      "Coarse Aggregate\n",
      "Stop after 153 iteration\n",
      "Final m: [0.03633246]\n",
      "Final b: 0.7012590517056946\n",
      "Final Regression algorithm: f(x) = [0.036] * x + 0.701\n",
      "Variance explained of your models on the testing data points: -0.10922639695746607\n",
      "Variance explained of your models on the training dataset: -0.08358772843531206\n",
      "----------------------------------------------------------------\n",
      "Fine Aggregate\n",
      "Stop after 681 iteration\n",
      "Final m: [0.04400331]\n",
      "Final b: 0.35190328610424554\n",
      "Final Regression algorithm: f(x) = [0.044] * x + 0.352\n",
      "Variance explained of your models on the testing data points: -0.14483910710456813\n",
      "Variance explained of your models on the training dataset: -0.12638110901717986\n",
      "----------------------------------------------------------------\n",
      "Age\n",
      "Stop after 42860 iteration\n",
      "Final m: [0.77822321]\n",
      "Final b: 0.6453807127729413\n",
      "Final Regression algorithm: f(x) = [0.778] * x + 0.645\n",
      "Variance explained of your models on the testing data points: -0.8155054121125659\n",
      "Variance explained of your models on the training dataset: -0.7402189971032266\n",
      "----------------------------------------------------------------\n"
     ]
    }
   ],
   "source": [
    "#fit model for every feasture\n",
    "for i, feature in enumerate(features[:-1]):\n",
    "    x_train = X_train[:, i]\n",
    "    x_test = X_test[:, i]\n",
    "    run_MSE_uni(feature, x_train, Y_train, x_test, Y_test, num_iterations=200000,alpha=0.000001,delta=1e-5)"
   ]
  },
  {
   "cell_type": "markdown",
   "id": "d425514a",
   "metadata": {},
   "source": [
    "# multivariate Ridge regression"
   ]
  },
  {
   "cell_type": "code",
   "execution_count": 42,
   "id": "32b322a7",
   "metadata": {},
   "outputs": [],
   "source": [
    "#incase start from here, I copy new split function\n",
    "#split data standarlized\n",
    "Y_set = XScaled['Concrete compressive strength'].values\n",
    "X_set = XScaled.drop(labels= \"Concrete compressive strength\" , axis = 1).values\n",
    "\n",
    "# data spliting using 80:20 train test data ratio and randon seeding 6\n",
    "X_train, X_test, Y_train, Y_test = train_test_split(X_set, Y_set, train_size=900,test_size=130, random_state=6)"
   ]
  },
  {
   "cell_type": "code",
   "execution_count": 43,
   "id": "074fdf72",
   "metadata": {},
   "outputs": [],
   "source": [
    "# calculate prediction\n",
    "def pred_MSE_mul(b,m,X):\n",
    "    return b + np.dot(X,m)"
   ]
  },
  {
   "cell_type": "code",
   "execution_count": 44,
   "id": "bf54aaa9",
   "metadata": {},
   "outputs": [],
   "source": [
    "#incase start from here, I copy MSE loss function here\n",
    "def MSE_loss(Y,Y_pre):\n",
    "    #print(\"Yf\",Y_pre)\n",
    "    y_dif=Y-Y_pre\n",
    "    return np.sum(y_dif**2)/len(Y)"
   ]
  },
  {
   "cell_type": "code",
   "execution_count": 45,
   "id": "be95ebdc",
   "metadata": {},
   "outputs": [],
   "source": [
    "#define function calculate ridge loss\n",
    "def ridgeMSE(Y,Y_pre, lam, m):\n",
    "    mse = MSE_loss(Y,Y_pre)\n",
    "    j=np.dot(m,m)\n",
    "    ridge_mse = mse + lam *j\n",
    "    return ridge_mse"
   ]
  },
  {
   "cell_type": "code",
   "execution_count": 46,
   "id": "f5e67daa",
   "metadata": {},
   "outputs": [],
   "source": [
    "#define update function\n",
    "def update_ridgeMSE_mul(X,Y,b,m,alpha,lam):\n",
    "    Y_pre=pred_MSE_mul(b,m,X)\n",
    "    db=(np.sum(Y_pre-Y)*2)/len(Y)+2*lam*b\n",
    "    #print(\"db\",db)\n",
    "    b_n=b-alpha*db\n",
    "    m_n=list(range(len(m)))\n",
    "    for i in range(len(m)):\n",
    "        dw=2*np.dot((Y_pre-Y),X[:,i])/len(Y)+2*lam*m[i]\n",
    "        #print(\"dw\",dw)\n",
    "        m_n[i]=m[i]-alpha*dw\n",
    "    return b_n,m_n"
   ]
  },
  {
   "cell_type": "code",
   "execution_count": 47,
   "id": "ac01c111",
   "metadata": {},
   "outputs": [],
   "source": [
    "#define running function\n",
    "def run_Rid_mul(X,Y,alpha,num_iterations,delta,lam):    \n",
    "    b,m=initialize(X.shape[1])\n",
    "    print(b,m)\n",
    "    iter_num=0\n",
    "    gd_iterations_df=pd.DataFrame(columns=['iteration','cost'])\n",
    "    prev_cost=float(\"inf\")\n",
    "    Y_pre=pred_MSE_mul(b,m,X)\n",
    "    #print(Y_pre.shape)\n",
    "    #print(Y_pre)\n",
    "    this_cost=ridgeMSE(Y,Y_pre,lam,m)\n",
    "    #print(this_cost)\n",
    "    #print(prev_cost - this_cost)\n",
    "    gd_iterations_df.loc[iter_num]=[iter_num,this_cost]\n",
    "    \n",
    "    while prev_cost - this_cost > delta and iter_num < num_iterations:\n",
    "        iter_num +=1\n",
    "        b,m=update_ridgeMSE_mul(X,Y,b,m,alpha,lam)\n",
    "        Y_pre=pred_MSE_mul(b,m,X)\n",
    "        prev_cost=this_cost\n",
    "        this_cost=ridgeMSE(Y,Y_pre,lam,m)\n",
    "        \n",
    "        gd_iterations_df.loc[iter_num]=[iter_num,this_cost]\n",
    "        \n",
    "    ve=var_Exp_new(Y_pre,Y)\n",
    "    print(\"Final Estimate of b and m : \",b,m)\n",
    "    print(\"Variance explained:\",ve)\n",
    "    return gd_iterations_df,b,m,ve\n"
   ]
  },
  {
   "cell_type": "code",
   "execution_count": 48,
   "id": "2243c1f7",
   "metadata": {},
   "outputs": [
    {
     "name": "stdout",
     "output_type": "stream",
     "text": [
      "0.0019938052247394644 [0.0672086  0.3667174  0.70861323 0.21628648 0.21657096 0.58608074\n",
      " 0.87367018 0.16056458]\n",
      "Final Estimate of b and m :  -0.002256030321943038 [0.6213433591283002, 0.3457189337031707, 0.15871122481651367, -0.20666382924550528, 0.07940878097235306, -0.03303656992051361, -0.08080103283012947, 0.5083598941162553]\n",
      "Variance explained: 0.7127475921069383\n"
     ]
    }
   ],
   "source": [
    "#fit model on training data\n",
    "gd_iterations_df,b,m,ve=run_Rid_mul(X_train,Y_train,alpha=0.1,num_iterations=200000,delta=1e-5,lam=0.01)"
   ]
  },
  {
   "cell_type": "code",
   "execution_count": 49,
   "id": "7ec61c22",
   "metadata": {},
   "outputs": [
    {
     "data": {
      "text/plain": [
       "0.72953028125188"
      ]
     },
     "execution_count": 49,
     "metadata": {},
     "output_type": "execute_result"
    }
   ],
   "source": [
    "# test data VE\n",
    "Y_pre=pred_MSE_mul(b,m,X_test)\n",
    "var_Exp_new(Y_pre,Y_test)"
   ]
  },
  {
   "cell_type": "markdown",
   "id": "b2a7536f",
   "metadata": {},
   "source": [
    "# unitivariate Ridge regression"
   ]
  },
  {
   "cell_type": "code",
   "execution_count": 50,
   "id": "cca9485a",
   "metadata": {},
   "outputs": [],
   "source": [
    "#incase start from here, I copy new split function\n",
    "#split data not standardized\n",
    "Y_set = concrete_df_new['Concrete compressive strength'].values\n",
    "X_set = concrete_df_new.drop(labels= \"Concrete compressive strength\" , axis = 1).values\n",
    "\n",
    "# data spliting using 80:20 train test data ratio and randon seeding 6\n",
    "X_train, X_test, Y_train, Y_test = train_test_split(X_set, Y_set, train_size=900,test_size=130, random_state=6)"
   ]
  },
  {
   "cell_type": "code",
   "execution_count": 51,
   "id": "c9399f0a",
   "metadata": {},
   "outputs": [],
   "source": [
    "#define ridge regression loss function for univariate\n",
    "def Rid_loss_function(x, y, m, b,lam):\n",
    "    n=len(x)\n",
    "    mse=1 / n * np.sum((y - (m*x + b)) ** 2)\n",
    "    ridge_mse = mse + lam * (m**2)\n",
    "    return ridge_mse"
   ]
  },
  {
   "cell_type": "code",
   "execution_count": 52,
   "id": "c1a0f7b3",
   "metadata": {},
   "outputs": [],
   "source": [
    "#define running function\n",
    "def run_MSE_uni(feature, x_train, y_train, x_test, y_test,num_iterations, alpha,delta,lam):\n",
    "\n",
    "    # init\n",
    "    b,m=initialize(1)\n",
    "    #print(m)\n",
    "    old_mse = float(\"inf\")\n",
    "    iteration = 0\n",
    "    mse = Rid_loss_function(x_train, y_train, m, b,lam)\n",
    "    #print(\"mse\",mse)\n",
    "\n",
    "    # when to stop, start training\n",
    "    while old_mse - mse > delta and iteration < num_iterations:\n",
    "        y_pred = m * x_train + b\n",
    "        dm=2*np.dot((y_pred-y_train),x_train)/len(y_train)+2*lam*m\n",
    "        m = m - alpha *dm\n",
    "        #print(m)\n",
    "        db=(np.sum(y_pred-y_train)*2)/len(y_train)+2*lam*b\n",
    "        b = b - alpha / len(x_train) * np.sum(-2 * y_train - y_pred)\n",
    "        old_mse = mse\n",
    "        mse = Rid_loss_function(x_train, y_train, m, b,lam)\n",
    "        #print(\"old_mse\",old_mse)\n",
    "        #print(\"mse\",mse)\n",
    "        #print(\"old_mse - mse\",old_mse - mse)\n",
    "        iteration += 1\n",
    "\n",
    "    # print result\n",
    "    print('%s' %(feature))\n",
    "    print(\"Stop after %s iteration\" %(iteration))\n",
    "    print('Final m: %s' %(m))\n",
    "    print('Final b: %s' %(b))\n",
    "    print(f\"Final Regression algorithm: f(x) = { np.round(m, 3) } * x + {np.round(b, 3)}\" )\n",
    "    y_pred1=m * x_test + b\n",
    "    ve1=var_Exp_new(y_pred1,y_test)\n",
    "    ve2=var_Exp_new(y_pred,y_train)\n",
    "    print('Variance explained of your models on the testing data points: %s' %(ve1))\n",
    "    print('Variance explained of your models on the training dataset: %s' %(ve2))\n",
    "    print(\"----------------------------------------------------------------\")\n",
    "\n",
    "\n",
    "\n",
    "    \"\"\"# plot\n",
    "    plt.figure()\n",
    "    plt.scatter(x_train, y_train, s=5)\n",
    "    x_range = np.arange(np.min(x_train), np.max(x_train), 0.1)\n",
    "    y_range = m * x_range + b\n",
    "    plt.plot(x_range, y_range)\n",
    "    plt.title(feature)\n",
    "    plt.xlabel(feature)\n",
    "    plt.ylabel(features[-1])\n",
    "    plt.show()\n",
    "    plt.close()\"\"\""
   ]
  },
  {
   "cell_type": "code",
   "execution_count": 53,
   "id": "ccbb524b",
   "metadata": {},
   "outputs": [
    {
     "name": "stdout",
     "output_type": "stream",
     "text": [
      "Cement\n",
      "Stop after 11788 iteration\n",
      "Final m: [0.07973346]\n",
      "Final b: 13.135074653754106\n",
      "Final Regression algorithm: f(x) = [0.08] * x + 13.135\n",
      "Variance explained of your models on the testing data points: 0.23595263366347033\n",
      "Variance explained of your models on the training dataset: 0.24739538864004154\n",
      "----------------------------------------------------------------\n",
      "Blast Furnace Slag\n",
      "Stop after 35105 iteration\n",
      "Final m: [0.02295492]\n",
      "Final b: 33.85200975261459\n",
      "Final Regression algorithm: f(x) = [0.023] * x + 33.852\n",
      "Variance explained of your models on the testing data points: 0.0308402570442778\n",
      "Variance explained of your models on the training dataset: 0.013628910601164364\n",
      "----------------------------------------------------------------\n",
      "Fly Ash\n",
      "Stop after 37939 iteration\n",
      "Final m: [-0.02117966]\n",
      "Final b: 36.65452580481318\n",
      "Final Regression algorithm: f(x) = [-0.021] * x + 36.655\n",
      "Variance explained of your models on the testing data points: 0.015605784000799044\n",
      "Variance explained of your models on the training dataset: 0.006700185748158939\n",
      "----------------------------------------------------------------\n",
      "Water\n",
      "Stop after 76443 iteration\n",
      "Final m: [-0.25226066]\n",
      "Final b: 81.34124001813048\n",
      "Final Regression algorithm: f(x) = [-0.252] * x + 81.341\n",
      "Variance explained of your models on the testing data points: 0.04250803934752247\n",
      "Variance explained of your models on the training dataset: 0.10011969291039653\n",
      "----------------------------------------------------------------\n",
      "Superplasticizer\n",
      "Stop after 28824 iteration\n",
      "Final m: [1.11532371]\n",
      "Final b: 29.291151059226642\n",
      "Final Regression algorithm: f(x) = [1.115] * x + 29.291\n",
      "Variance explained of your models on the testing data points: 0.10431268657720422\n",
      "Variance explained of your models on the training dataset: 0.11941393030080573\n",
      "----------------------------------------------------------------\n",
      "Coarse Aggregate\n",
      "Stop after 1 iteration\n",
      "Final m: [-6.62049144]\n",
      "Final b: 0.9378384354324789\n",
      "Final Regression algorithm: f(x) = [-6.62] * x + 0.938\n",
      "Variance explained of your models on the testing data points: -140499.20158846673\n",
      "Variance explained of your models on the training dataset: -471.67929148131503\n",
      "----------------------------------------------------------------\n",
      "Fine Aggregate\n",
      "Stop after 1 iteration\n",
      "Final m: [-6.37521761]\n",
      "Final b: 0.14429042230098682\n",
      "Final Regression algorithm: f(x) = [-6.375] * x + 0.144\n",
      "Variance explained of your models on the testing data points: -80554.658963125\n",
      "Variance explained of your models on the training dataset: -736.7157081270935\n",
      "----------------------------------------------------------------\n",
      "Age\n",
      "Stop after 24629 iteration\n",
      "Final m: [0.30304892]\n",
      "Final b: 25.85288881150239\n",
      "Final Regression algorithm: f(x) = [0.303] * x + 25.853\n",
      "Variance explained of your models on the testing data points: 0.2149069371062251\n",
      "Variance explained of your models on the training dataset: 0.2531929764369299\n",
      "----------------------------------------------------------------\n"
     ]
    }
   ],
   "source": [
    "#fit models for every feasture\n",
    "for i, feature in enumerate(features[:-1]):\n",
    "    x_train = X_train[:, i]\n",
    "    x_test = X_test[:, i]\n",
    "    run_MSE_uni(feature, x_train, Y_train, x_test, Y_test, num_iterations=200000,alpha=0.00001,delta=1e-5,lam=0.001)"
   ]
  }
 ],
 "metadata": {
  "kernelspec": {
   "display_name": "Python 3 (ipykernel)",
   "language": "python",
   "name": "python3"
  },
  "language_info": {
   "codemirror_mode": {
    "name": "ipython",
    "version": 3
   },
   "file_extension": ".py",
   "mimetype": "text/x-python",
   "name": "python",
   "nbconvert_exporter": "python",
   "pygments_lexer": "ipython3",
   "version": "3.9.12"
  }
 },
 "nbformat": 4,
 "nbformat_minor": 5
}
